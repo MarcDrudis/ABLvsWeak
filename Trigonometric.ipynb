{
 "cells": [
  {
   "cell_type": "code",
   "execution_count": 1,
   "id": "af081b0b",
   "metadata": {},
   "outputs": [],
   "source": [
    "from sympy import *\n",
    "from sympy.plotting.plot import plot3d"
   ]
  },
  {
   "cell_type": "code",
   "execution_count": 6,
   "id": "36940bc1",
   "metadata": {},
   "outputs": [
    {
     "data": {
      "text/latex": [
       "$\\displaystyle \\sqrt{P_{0}} \\sin{\\left(\\theta_{0} \\right)} + \\sqrt{P_{1}} \\sin{\\left(\\theta_{1} \\right)} + \\sqrt{P_{2}} \\sin{\\left(\\theta_{2} \\right)} + \\sqrt{P_{3}} \\sin{\\left(\\theta_{3} \\right)} + \\sqrt{P_{4}} \\sin{\\left(\\theta_{4} \\right)}$"
      ],
      "text/plain": [
       "sqrt(P0)*sin(theta0) + sqrt(P1)*sin(theta1) + sqrt(P2)*sin(theta2) + sqrt(P3)*sin(theta3) + sqrt(P4)*sin(theta4)"
      ]
     },
     "execution_count": 6,
     "metadata": {},
     "output_type": "execute_result"
    }
   ],
   "source": [
    "N=5\n",
    "ABL = symbols(f\"P:{N}\")\n",
    "R = [sqrt(p) for p in ABL]\n",
    "T = symbols(f\"theta:{N}\")\n",
    "Z = (sum(r*cos(t) for r,t in zip(R,T)))\n",
    "# Z = symbols('Z')\n",
    "W = [r*cos(t)/Z for r,t in zip(R,T)]\n",
    "constraint = sum(r*sin(t) for r,t in zip(R,T))\n",
    "constraint"
   ]
  },
  {
   "cell_type": "code",
   "execution_count": 10,
   "id": "df7cb6ad",
   "metadata": {},
   "outputs": [
    {
     "data": {
      "text/latex": [
       "$\\displaystyle \\operatorname{asin}{\\left(\\frac{\\sqrt{P_{1}} \\sin{\\left(\\theta_{1} \\right)} + \\sqrt{P_{2}} \\sin{\\left(\\theta_{2} \\right)} + \\sqrt{P_{3}} \\sin{\\left(\\theta_{3} \\right)} + \\sqrt{P_{4}} \\sin{\\left(\\theta_{4} \\right)}}{\\sqrt{P_{0}}} \\right)} + \\pi$"
      ],
      "text/plain": [
       "asin((sqrt(P1)*sin(theta1) + sqrt(P2)*sin(theta2) + sqrt(P3)*sin(theta3) + sqrt(P4)*sin(theta4))/sqrt(P0)) + pi"
      ]
     },
     "metadata": {},
     "output_type": "display_data"
    },
    {
     "data": {
      "text/latex": [
       "$\\displaystyle \\frac{\\sqrt{P_{0}} \\cos{\\left(\\theta_{0} \\right)}}{\\sqrt{P_{0}} \\cos{\\left(\\theta_{0} \\right)} + \\sqrt{P_{1}} \\cos{\\left(\\theta_{1} \\right)} + \\sqrt{P_{2}} \\cos{\\left(\\theta_{2} \\right)} + \\sqrt{P_{3}} \\cos{\\left(\\theta_{3} \\right)} + \\sqrt{P_{4}} \\cos{\\left(\\theta_{4} \\right)}}$"
      ],
      "text/plain": [
       "sqrt(P0)*cos(theta0)/(sqrt(P0)*cos(theta0) + sqrt(P1)*cos(theta1) + sqrt(P2)*cos(theta2) + sqrt(P3)*cos(theta3) + sqrt(P4)*cos(theta4))"
      ]
     },
     "metadata": {},
     "output_type": "display_data"
    },
    {
     "name": "stdout",
     "output_type": "stream",
     "text": [
      "A\n"
     ]
    },
    {
     "data": {
      "text/latex": [
       "$\\displaystyle - \\frac{\\sqrt{P_{0}} \\sqrt{1 - \\frac{\\alpha_{0}^{2}}{P_{0}}}}{- \\sqrt{P_{0}} \\sqrt{1 - \\frac{\\alpha_{0}^{2}}{P_{0}}} + \\alpha_{1}}$"
      ],
      "text/plain": [
       "-sqrt(P0)*sqrt(1 - alpha0**2/P0)/(-sqrt(P0)*sqrt(1 - alpha0**2/P0) + alpha1)"
      ]
     },
     "metadata": {},
     "output_type": "display_data"
    },
    {
     "name": "stdout",
     "output_type": "stream",
     "text": [
      "B\n"
     ]
    },
    {
     "data": {
      "text/latex": [
       "$\\displaystyle \\frac{\\sqrt{P_{0}} \\sqrt{1 - \\frac{\\alpha_{0}^{2}}{P_{0}}}}{\\sqrt{P_{0}} \\sqrt{1 - \\frac{\\alpha_{0}^{2}}{P_{0}}} + \\alpha_{1}}$"
      ],
      "text/plain": [
       "sqrt(P0)*sqrt(1 - alpha0**2/P0)/(sqrt(P0)*sqrt(1 - alpha0**2/P0) + alpha1)"
      ]
     },
     "metadata": {},
     "output_type": "display_data"
    }
   ],
   "source": [
    "theta0 = solve(constraint,T[0])\n",
    "display(theta0[0])\n",
    "display(W[0])\n",
    "alpha = symbols(\"alpha:2\")\n",
    "weak0A = W[0].subs(T[0],theta0[0]).subs(zip([sum(r*sin(t) for r,t in zip(R[1:],T[1:])),sum(r*cos(t) for r,t in zip(R[1:],T[1:]))],alpha))\n",
    "weak0B = W[0].subs(T[0],theta0[1]).subs(zip([sum(r*sin(t) for r,t in zip(R[1:],T[1:])),sum(r*cos(t) for r,t in zip(R[1:],T[1:]))],alpha))\n",
    "print('A')\n",
    "display(weak0A)\n",
    "print(\"B\")\n",
    "display(weak0B)\n",
    "if N == 3:\n",
    "    probs = [0.9,0.05,0.05]\n",
    "    display(plot3d(weak0A.subs(zip(ABL,probs)),\n",
    "                    weak0B.subs(zip(ABL,probs)),\n",
    "                   (T[1],-pi,pi),\n",
    "                   (T[2],-pi,pi)))"
   ]
  },
  {
   "cell_type": "code",
   "execution_count": 28,
   "id": "273e0ca8",
   "metadata": {},
   "outputs": [
    {
     "data": {
      "text/latex": [
       "$\\displaystyle \\frac{1.0 \\alpha_{0}}{\\left(1.0 \\alpha_{1} - \\sqrt{0.5 - \\alpha_{0}^{2}}\\right)^{2}} + \\frac{1.0 \\alpha_{0}}{\\sqrt{0.5 - \\alpha_{0}^{2}} \\left(\\alpha_{1} - 1.0 \\sqrt{0.5 - \\alpha_{0}^{2}}\\right)}$"
      ],
      "text/plain": [
       "1.0*alpha0/(1.0*alpha1 - sqrt(0.5 - alpha0**2))**2 + 1.0*alpha0/(sqrt(0.5 - alpha0**2)*(alpha1 - 1.0*sqrt(0.5 - alpha0**2)))"
      ]
     },
     "metadata": {},
     "output_type": "display_data"
    },
    {
     "data": {
      "text/latex": [
       "$\\displaystyle \\frac{1.0 \\sqrt{0.5 - \\alpha_{0}^{2}}}{\\left(1.0 \\alpha_{1} - \\sqrt{0.5 - \\alpha_{0}^{2}}\\right)^{2}}$"
      ],
      "text/plain": [
       "1.0*sqrt(0.5 - alpha0**2)/(1.0*alpha1 - sqrt(0.5 - alpha0**2))**2"
      ]
     },
     "metadata": {},
     "output_type": "display_data"
    },
    {
     "data": {
      "text/latex": [
       "$\\displaystyle - \\frac{1.05367121277235 \\cdot 10^{-8} i}{\\alpha_{1} - 1.05367121277235 \\cdot 10^{-8} i}$"
      ],
      "text/plain": [
       "-1.05367121277235e-8*I/(alpha1 - 1.05367121277235e-8*I)"
      ]
     },
     "metadata": {},
     "output_type": "display_data"
    }
   ],
   "source": [
    "probs=[0.7,0.1,0.2]\n",
    "gradient = [diff(weak0A,a).subs(ABL[0],0.5) for a in alpha]\n",
    "display(gradient[0])\n",
    "display(gradient[1])\n",
    "result = solve(gradient[1],alpha)\n",
    "p=weak0A.subs(zip(alpha,result[1])).subs(ABL[0],0.5)\n",
    "display(p)\n"
   ]
  },
  {
   "cell_type": "code",
   "execution_count": 20,
   "id": "bbbee413",
   "metadata": {},
   "outputs": [
    {
     "data": {
      "text/latex": [
       "$\\displaystyle \\frac{\\sqrt{P_{0}}}{Z}$"
      ],
      "text/plain": [
       "sqrt(P0)/Z"
      ]
     },
     "metadata": {},
     "output_type": "display_data"
    },
    {
     "data": {
      "text/latex": [
       "$\\displaystyle 0$"
      ],
      "text/plain": [
       "0"
      ]
     },
     "metadata": {},
     "output_type": "display_data"
    },
    {
     "data": {
      "image/png": "[encoded data removed]",
      "text/plain": [
       "<Figure size 432x288 with 1 Axes>"
      ]
     },
     "metadata": {
      "needs_background": "light"
     },
     "output_type": "display_data"
    },
    {
     "data": {
      "text/plain": [
       "<sympy.plotting.plot.Plot at 0x1c690c5b040>"
      ]
     },
     "execution_count": 20,
     "metadata": {},
     "output_type": "execute_result"
    }
   ],
   "source": [
    "weak0 = W[0].subs(zip(T,result[0]))\n",
    "display(weak0)\n",
    "Ztilde = symbols(\"Ztilde\")\n",
    "display(result[0][0].subs(Z*alpha,Ztilde))\n",
    "plot(cos(result[0][0].subs(Z*alpha,Ztilde)))"
   ]
  },
  {
   "cell_type": "code",
   "execution_count": 35,
   "id": "47856bb5",
   "metadata": {},
   "outputs": [
    {
     "data": {
      "text/plain": [
       "[(0,\n",
       "  asin((sqrt(P2)*sin(theta2) + sqrt(P3)*sin(theta3))/sqrt(P1)) + pi,\n",
       "  theta2,\n",
       "  theta3,\n",
       "  0),\n",
       " (0,\n",
       "  -asin((sqrt(P2)*sin(theta2) + sqrt(P3)*sin(theta3))/sqrt(P1)),\n",
       "  theta2,\n",
       "  theta3,\n",
       "  0)]"
      ]
     },
     "execution_count": 35,
     "metadata": {},
     "output_type": "execute_result"
    }
   ],
   "source": [
    "result"
   ]
  },
  {
   "cell_type": "code",
   "execution_count": null,
   "id": "0e4a9fde",
   "metadata": {},
   "outputs": [],
   "source": []
  }
 ],
 "metadata": {
  "kernelspec": {
   "display_name": "Python 3 (ipykernel)",
   "language": "python",
   "name": "python3"
  },
  "language_info": {
   "codemirror_mode": {
    "name": "ipython",
    "version": 3
   },
   "file_extension": ".py",
   "mimetype": "text/x-python",
   "name": "python",
   "nbconvert_exporter": "python",
   "pygments_lexer": "ipython3",
   "version": "3.9.7"
  }
 },
 "nbformat": 4,
 "nbformat_minor": 5
}
