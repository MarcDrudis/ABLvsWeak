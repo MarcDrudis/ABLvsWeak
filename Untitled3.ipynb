{
 "cells": [
  {
   "cell_type": "code",
   "execution_count": 1,
   "id": "b07d2e11",
   "metadata": {},
   "outputs": [],
   "source": [
    "from sympy import *"
   ]
  },
  {
   "cell_type": "code",
   "execution_count": 7,
   "id": "060c9ab8",
   "metadata": {},
   "outputs": [],
   "source": [
    "N=3\n",
    "x = symbols(f'x:{N}')\n",
    "y = symbols(f'y:{N}')\n",
    "alpha = symbols(f'alpha:{N-1}')\n",
    "alpha = alpha + (1-sum(alpha),)\n",
    "R = symbols('R')"
   ]
  },
  {
   "cell_type": "code",
   "execution_count": 18,
   "id": "6218ed11",
   "metadata": {},
   "outputs": [
    {
     "name": "stdout",
     "output_type": "stream",
     "text": [
      "constraints\n"
     ]
    },
    {
     "data": {
      "text/latex": [
       "$\\displaystyle - R \\alpha_{0} + x_{0}^{2} + y_{0}^{2}$"
      ],
      "text/plain": [
       "-R*alpha0 + x0**2 + y0**2"
      ]
     },
     "metadata": {},
     "output_type": "display_data"
    },
    {
     "data": {
      "text/latex": [
       "$\\displaystyle - R \\alpha_{1} + x_{1}^{2} + y_{1}^{2}$"
      ],
      "text/plain": [
       "-R*alpha1 + x1**2 + y1**2"
      ]
     },
     "metadata": {},
     "output_type": "display_data"
    },
    {
     "data": {
      "text/latex": [
       "$\\displaystyle - R \\left(- \\alpha_{0} - \\alpha_{1} + 1\\right) + x_{2}^{2} + y_{2}^{2}$"
      ],
      "text/plain": [
       "-R*(-alpha0 - alpha1 + 1) + x2**2 + y2**2"
      ]
     },
     "metadata": {},
     "output_type": "display_data"
    },
    {
     "data": {
      "text/latex": [
       "$\\displaystyle - R + x_{0}^{2} + x_{1}^{2} + x_{2}^{2} + y_{0}^{2} + y_{1}^{2} + y_{2}^{2}$"
      ],
      "text/plain": [
       "-R + x0**2 + x1**2 + x2**2 + y0**2 + y1**2 + y2**2"
      ]
     },
     "metadata": {},
     "output_type": "display_data"
    },
    {
     "name": "stdout",
     "output_type": "stream",
     "text": [
      "Lagrangian\n"
     ]
    },
    {
     "data": {
      "text/latex": [
       "$\\displaystyle - \\lambda_{0} \\left(- R \\alpha_{0} + x_{0}^{2} + y_{0}^{2}\\right) - \\lambda_{1} \\left(- R \\alpha_{1} + x_{1}^{2} + y_{1}^{2}\\right) - \\lambda_{2} \\left(- R \\left(- \\alpha_{0} - \\alpha_{1} + 1\\right) + x_{2}^{2} + y_{2}^{2}\\right) - \\lambda_{3} \\left(- R + x_{0}^{2} + x_{1}^{2} + x_{2}^{2} + y_{0}^{2} + y_{1}^{2} + y_{2}^{2}\\right) + x_{0}$"
      ],
      "text/plain": [
       "-lambda0*(-R*alpha0 + x0**2 + y0**2) - lambda1*(-R*alpha1 + x1**2 + y1**2) - lambda2*(-R*(-alpha0 - alpha1 + 1) + x2**2 + y2**2) - lambda3*(-R + x0**2 + x1**2 + x2**2 + y0**2 + y1**2 + y2**2) + x0"
      ]
     },
     "metadata": {},
     "output_type": "display_data"
    },
    {
     "name": "stdout",
     "output_type": "stream",
     "text": [
      "gradient\n"
     ]
    },
    {
     "data": {
      "text/latex": [
       "$\\displaystyle - 2 \\lambda_{0} x_{0} - 2 \\lambda_{3} x_{0} + 1$"
      ],
      "text/plain": [
       "-2*lambda0*x0 - 2*lambda3*x0 + 1"
      ]
     },
     "metadata": {},
     "output_type": "display_data"
    },
    {
     "data": {
      "text/latex": [
       "$\\displaystyle - 2 \\lambda_{1} x_{1} - 2 \\lambda_{3} x_{1}$"
      ],
      "text/plain": [
       "-2*lambda1*x1 - 2*lambda3*x1"
      ]
     },
     "metadata": {},
     "output_type": "display_data"
    },
    {
     "data": {
      "text/latex": [
       "$\\displaystyle - 2 \\lambda_{2} x_{2} - 2 \\lambda_{3} x_{2}$"
      ],
      "text/plain": [
       "-2*lambda2*x2 - 2*lambda3*x2"
      ]
     },
     "metadata": {},
     "output_type": "display_data"
    },
    {
     "data": {
      "text/latex": [
       "$\\displaystyle - 2 \\lambda_{0} y_{0} - 2 \\lambda_{3} y_{0}$"
      ],
      "text/plain": [
       "-2*lambda0*y0 - 2*lambda3*y0"
      ]
     },
     "metadata": {},
     "output_type": "display_data"
    },
    {
     "data": {
      "text/latex": [
       "$\\displaystyle - 2 \\lambda_{1} y_{1} - 2 \\lambda_{3} y_{1}$"
      ],
      "text/plain": [
       "-2*lambda1*y1 - 2*lambda3*y1"
      ]
     },
     "metadata": {},
     "output_type": "display_data"
    },
    {
     "data": {
      "text/latex": [
       "$\\displaystyle - 2 \\lambda_{2} y_{2} - 2 \\lambda_{3} y_{2}$"
      ],
      "text/plain": [
       "-2*lambda2*y2 - 2*lambda3*y2"
      ]
     },
     "metadata": {},
     "output_type": "display_data"
    },
    {
     "data": {
      "text/latex": [
       "$\\displaystyle R \\alpha_{0} - x_{0}^{2} - y_{0}^{2}$"
      ],
      "text/plain": [
       "R*alpha0 - x0**2 - y0**2"
      ]
     },
     "metadata": {},
     "output_type": "display_data"
    },
    {
     "data": {
      "text/latex": [
       "$\\displaystyle R \\alpha_{1} - x_{1}^{2} - y_{1}^{2}$"
      ],
      "text/plain": [
       "R*alpha1 - x1**2 - y1**2"
      ]
     },
     "metadata": {},
     "output_type": "display_data"
    },
    {
     "data": {
      "text/latex": [
       "$\\displaystyle R \\left(- \\alpha_{0} - \\alpha_{1} + 1\\right) - x_{2}^{2} - y_{2}^{2}$"
      ],
      "text/plain": [
       "R*(-alpha0 - alpha1 + 1) - x2**2 - y2**2"
      ]
     },
     "metadata": {},
     "output_type": "display_data"
    },
    {
     "data": {
      "text/latex": [
       "$\\displaystyle R - x_{0}^{2} - x_{1}^{2} - x_{2}^{2} - y_{0}^{2} - y_{1}^{2} - y_{2}^{2}$"
      ],
      "text/plain": [
       "R - x0**2 - x1**2 - x2**2 - y0**2 - y1**2 - y2**2"
      ]
     },
     "metadata": {},
     "output_type": "display_data"
    }
   ],
   "source": [
    "constraints = []\n",
    "for i in range(N):\n",
    "    constraints.append(x[i]**2+y[i]**2-alpha[i]*R)\n",
    "constraints.append(sum([x[i]**2+y[i]**2 for i in range(N)]) - R)\n",
    "print('constraints')\n",
    "for el in constraints:\n",
    "    display(el)\n",
    "lmbda = symbols(f'lambda:{len(constraints)}')\n",
    "Lagrangian = x[0] - sum([l*c for l,c in zip(lmbda,constraints)])\n",
    "print('Lagrangian')\n",
    "display(Lagrangian)\n",
    "gradient = [diff(Lagrangian,var) for var in x+y+lmbda]\n",
    "print('gradient')\n",
    "for el in gradient:\n",
    "    display(el)"
   ]
  },
  {
   "cell_type": "code",
   "execution_count": 28,
   "id": "1bb4e7a4",
   "metadata": {},
   "outputs": [
    {
     "ename": "NotImplementedError",
     "evalue": "\nonly zero-dimensional systems supported (finite number of solutions)",
     "output_type": "error",
     "traceback": [
      "\u001b[1;31m---------------------------------------------------------------------------\u001b[0m",
      "\u001b[1;31mNotImplementedError\u001b[0m                       Traceback (most recent call last)",
      "\u001b[1;32m~\\AppData\\Local\\Temp/ipykernel_1472/2975283931.py\u001b[0m in \u001b[0;36m<module>\u001b[1;34m\u001b[0m\n\u001b[1;32m----> 1\u001b[1;33m \u001b[0mresult\u001b[0m\u001b[1;33m=\u001b[0m\u001b[0msolve_poly_system\u001b[0m\u001b[1;33m(\u001b[0m\u001b[0mgradient\u001b[0m\u001b[1;33m,\u001b[0m\u001b[0mx\u001b[0m\u001b[1;33m+\u001b[0m\u001b[0mlmbda\u001b[0m\u001b[1;33m+\u001b[0m\u001b[0my\u001b[0m\u001b[1;33m,\u001b[0m\u001b[0mstrict\u001b[0m\u001b[1;33m=\u001b[0m\u001b[1;32mTrue\u001b[0m\u001b[1;33m)\u001b[0m\u001b[1;33m\u001b[0m\u001b[1;33m\u001b[0m\u001b[0m\n\u001b[0m\u001b[0;32m      2\u001b[0m \u001b[0mdisplay\u001b[0m\u001b[1;33m(\u001b[0m\u001b[0mresult\u001b[0m\u001b[1;33m)\u001b[0m\u001b[1;33m\u001b[0m\u001b[1;33m\u001b[0m\u001b[0m\n",
      "\u001b[1;32m~\\anaconda3\\lib\\site-packages\\sympy\\solvers\\polysys.py\u001b[0m in \u001b[0;36msolve_poly_system\u001b[1;34m(seq, *gens, **args)\u001b[0m\n\u001b[0;32m     61\u001b[0m                 \u001b[1;32mpass\u001b[0m\u001b[1;33m\u001b[0m\u001b[1;33m\u001b[0m\u001b[0m\n\u001b[0;32m     62\u001b[0m \u001b[1;33m\u001b[0m\u001b[0m\n\u001b[1;32m---> 63\u001b[1;33m     \u001b[1;32mreturn\u001b[0m \u001b[0msolve_generic\u001b[0m\u001b[1;33m(\u001b[0m\u001b[0mpolys\u001b[0m\u001b[1;33m,\u001b[0m \u001b[0mopt\u001b[0m\u001b[1;33m)\u001b[0m\u001b[1;33m\u001b[0m\u001b[1;33m\u001b[0m\u001b[0m\n\u001b[0m\u001b[0;32m     64\u001b[0m \u001b[1;33m\u001b[0m\u001b[0m\n\u001b[0;32m     65\u001b[0m \u001b[1;33m\u001b[0m\u001b[0m\n",
      "\u001b[1;32m~\\anaconda3\\lib\\site-packages\\sympy\\solvers\\polysys.py\u001b[0m in \u001b[0;36msolve_generic\u001b[1;34m(polys, opt)\u001b[0m\n\u001b[0;32m    283\u001b[0m \u001b[1;33m\u001b[0m\u001b[0m\n\u001b[0;32m    284\u001b[0m     \u001b[1;32mtry\u001b[0m\u001b[1;33m:\u001b[0m\u001b[1;33m\u001b[0m\u001b[1;33m\u001b[0m\u001b[0m\n\u001b[1;32m--> 285\u001b[1;33m         \u001b[0mresult\u001b[0m \u001b[1;33m=\u001b[0m \u001b[0m_solve_reduced_system\u001b[0m\u001b[1;33m(\u001b[0m\u001b[0mpolys\u001b[0m\u001b[1;33m,\u001b[0m \u001b[0mopt\u001b[0m\u001b[1;33m.\u001b[0m\u001b[0mgens\u001b[0m\u001b[1;33m,\u001b[0m \u001b[0mentry\u001b[0m\u001b[1;33m=\u001b[0m\u001b[1;32mTrue\u001b[0m\u001b[1;33m)\u001b[0m\u001b[1;33m\u001b[0m\u001b[1;33m\u001b[0m\u001b[0m\n\u001b[0m\u001b[0;32m    286\u001b[0m     \u001b[1;32mexcept\u001b[0m \u001b[0mCoercionFailed\u001b[0m\u001b[1;33m:\u001b[0m\u001b[1;33m\u001b[0m\u001b[1;33m\u001b[0m\u001b[0m\n\u001b[0;32m    287\u001b[0m         \u001b[1;32mraise\u001b[0m \u001b[0mNotImplementedError\u001b[0m\u001b[1;33m\u001b[0m\u001b[1;33m\u001b[0m\u001b[0m\n",
      "\u001b[1;32m~\\anaconda3\\lib\\site-packages\\sympy\\solvers\\polysys.py\u001b[0m in \u001b[0;36m_solve_reduced_system\u001b[1;34m(system, gens, entry)\u001b[0m\n\u001b[0;32m    244\u001b[0m             \u001b[0mf\u001b[0m \u001b[1;33m=\u001b[0m \u001b[0munivariate\u001b[0m\u001b[1;33m.\u001b[0m\u001b[0mpop\u001b[0m\u001b[1;33m(\u001b[0m\u001b[1;33m)\u001b[0m\u001b[1;33m\u001b[0m\u001b[1;33m\u001b[0m\u001b[0m\n\u001b[0;32m    245\u001b[0m         \u001b[1;32melse\u001b[0m\u001b[1;33m:\u001b[0m\u001b[1;33m\u001b[0m\u001b[1;33m\u001b[0m\u001b[0m\n\u001b[1;32m--> 246\u001b[1;33m             raise NotImplementedError(filldedent('''\n\u001b[0m\u001b[0;32m    247\u001b[0m                 \u001b[0monly\u001b[0m \u001b[0mzero\u001b[0m\u001b[1;33m-\u001b[0m\u001b[0mdimensional\u001b[0m \u001b[0msystems\u001b[0m \u001b[0msupported\u001b[0m\u001b[1;33m\u001b[0m\u001b[1;33m\u001b[0m\u001b[0m\n\u001b[0;32m    248\u001b[0m                 \u001b[1;33m(\u001b[0m\u001b[0mfinite\u001b[0m \u001b[0mnumber\u001b[0m \u001b[0mof\u001b[0m \u001b[0msolutions\u001b[0m\u001b[1;33m)\u001b[0m\u001b[1;33m\u001b[0m\u001b[1;33m\u001b[0m\u001b[0m\n",
      "\u001b[1;31mNotImplementedError\u001b[0m: \nonly zero-dimensional systems supported (finite number of solutions)"
     ]
    }
   ],
   "source": [
    "result=solve_poly_system(gradient,x+lmbda+y,strict=True\n",
    "                        \n",
    "                        \n",
    "                         )\n",
    "display(result)"
   ]
  },
  {
   "cell_type": "code",
   "execution_count": null,
   "id": "70da28e8",
   "metadata": {},
   "outputs": [],
   "source": []
  }
 ],
 "metadata": {
  "kernelspec": {
   "display_name": "Python 3 (ipykernel)",
   "language": "python",
   "name": "python3"
  },
  "language_info": {
   "codemirror_mode": {
    "name": "ipython",
    "version": 3
   },
   "file_extension": ".py",
   "mimetype": "text/x-python",
   "name": "python",
   "nbconvert_exporter": "python",
   "pygments_lexer": "ipython3",
   "version": "3.9.7"
  }
 },
 "nbformat": 4,
 "nbformat_minor": 5
}
