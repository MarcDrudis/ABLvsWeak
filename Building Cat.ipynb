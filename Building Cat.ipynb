{
 "cells": [
  {
   "cell_type": "code",
   "execution_count": 226,
   "id": "88b4e4e0",
   "metadata": {},
   "outputs": [],
   "source": [
    "from qiskit.opflow import X,Y,I,Zero,One\n",
    "import numpy as np"
   ]
  },
  {
   "cell_type": "code",
   "execution_count": 289,
   "id": "93f7078a",
   "metadata": {},
   "outputs": [],
   "source": [
    "prob = 1/6 * 2\n",
    "im = np.sqrt(prob/(1-2*prob))\n",
    "cphi=np.sqrt((2*im)**2+1)\n",
    "x=1/cphi\n",
    "y=2*im/cphi\n",
    "P=1/2 * (I+x*X+y*Y)\n",
    "Q=1/2 * (I+x*X-y*Y)\n",
    "Plus= 1/2 *(I+X)\n",
    "Minus = 1/2 *(I-X)"
   ]
  },
  {
   "cell_type": "code",
   "execution_count": 297,
   "id": "7b602578",
   "metadata": {},
   "outputs": [
    {
     "name": "stdout",
     "output_type": "stream",
     "text": [
      "0.447213595499958 0.894427190999916\n",
      "2.2360679774997894\n"
     ]
    }
   ],
   "source": [
    "print(x,y)\n",
    "print(cphi)"
   ]
  },
  {
   "cell_type": "code",
   "execution_count": 290,
   "id": "aff7bcf8",
   "metadata": {},
   "outputs": [],
   "source": [
    "post_custom= Zero-cphi*One"
   ]
  },
  {
   "cell_type": "code",
   "execution_count": 291,
   "id": "c1514428",
   "metadata": {},
   "outputs": [],
   "source": [
    "def weakval(pre,post,P):\n",
    "    pre = pre.to_matrix()\n",
    "    post= post.adjoint().to_matrix()\n",
    "    P = P.to_matrix()\n",
    "    D = post@pre\n",
    "    N = post@P@pre\n",
    "    return N[0]/D[0]\n",
    "def prob(pre,post,P,Q):\n",
    "    Pw = weakval(pre,post,P)\n",
    "    Qw = weakval(pre,post,Q)\n",
    "    Rw = weakval(pre,post,I-P-Q)\n",
    "    return np.absolute(Pw)**2/(np.absolute(Pw)**2+np.absolute(Qw)**2+np.absolute(Rw)**2)"
   ]
  },
  {
   "cell_type": "code",
   "execution_count": 292,
   "id": "d919c5ff",
   "metadata": {},
   "outputs": [
    {
     "data": {
      "text/plain": [
       "-1j"
      ]
     },
     "execution_count": 292,
     "metadata": {},
     "output_type": "execute_result"
    }
   ],
   "source": [
    "weakval(Zero,post_custom,P)"
   ]
  },
  {
   "cell_type": "code",
   "execution_count": 293,
   "id": "0ea93432",
   "metadata": {},
   "outputs": [
    {
     "data": {
      "text/plain": [
       "1.414213562373095"
      ]
     },
     "execution_count": 293,
     "metadata": {},
     "output_type": "execute_result"
    }
   ],
   "source": [
    "prob(Zero,post_custom,P,Q)*6/np.sqrt(2)"
   ]
  },
  {
   "cell_type": "code",
   "execution_count": 294,
   "id": "f29c437b",
   "metadata": {},
   "outputs": [
    {
     "data": {
      "text/plain": [
       "-0.5j"
      ]
     },
     "execution_count": 294,
     "metadata": {},
     "output_type": "execute_result"
    }
   ],
   "source": [
    "weakval(Zero^Zero,post_custom^Zero,P^Minus) "
   ]
  },
  {
   "cell_type": "code",
   "execution_count": 295,
   "id": "bb7f40bc",
   "metadata": {},
   "outputs": [
    {
     "name": "stdout",
     "output_type": "stream",
     "text": [
      "-0.5j 0.5j\n"
     ]
    }
   ],
   "source": [
    "Pw= weakval(Zero^Zero,post_custom^Zero,P^Minus)\n",
    "Qw= weakval(Zero^Zero,post_custom^Zero,Q^Plus)\n",
    "Rw = weakval(Zero^Zero,post_custom^Zero,(I^I)-(Q^Plus)-(P^Minus))\n",
    "print(Pw,Qw)"
   ]
  },
  {
   "cell_type": "code",
   "execution_count": 296,
   "id": "5c3b8cf4",
   "metadata": {},
   "outputs": [
    {
     "data": {
      "text/plain": [
       "1.0"
      ]
     },
     "execution_count": 296,
     "metadata": {},
     "output_type": "execute_result"
    }
   ],
   "source": [
    "np.absolute(Pw)**2/(np.absolute(Pw)**2+np.absolute(Qw)**2+np.absolute(Rw)**2) *6"
   ]
  },
  {
   "cell_type": "code",
   "execution_count": 232,
   "id": "e1c72fda",
   "metadata": {},
   "outputs": [
    {
     "data": {
      "text/plain": [
       "0.48927669529663687"
      ]
     },
     "execution_count": 232,
     "metadata": {},
     "output_type": "execute_result"
    }
   ],
   "source": [
    "np.absolute(Pw)**2"
   ]
  },
  {
   "cell_type": "code",
   "execution_count": 233,
   "id": "be488d1e",
   "metadata": {},
   "outputs": [
    {
     "data": {
      "text/plain": [
       "1.0214466094067263"
      ]
     },
     "execution_count": 233,
     "metadata": {},
     "output_type": "execute_result"
    }
   ],
   "source": [
    "np.absolute(Pw)**2+np.absolute(Qw)**2+np.absolute(1-Pw-Qw)**2"
   ]
  },
  {
   "cell_type": "code",
   "execution_count": null,
   "id": "edb66675",
   "metadata": {},
   "outputs": [],
   "source": []
  },
  {
   "cell_type": "code",
   "execution_count": null,
   "id": "c3e100c7",
   "metadata": {},
   "outputs": [],
   "source": []
  }
 ],
 "metadata": {
  "kernelspec": {
   "display_name": "Python 3 (ipykernel)",
   "language": "python",
   "name": "python3"
  },
  "language_info": {
   "codemirror_mode": {
    "name": "ipython",
    "version": 3
   },
   "file_extension": ".py",
   "mimetype": "text/x-python",
   "name": "python",
   "nbconvert_exporter": "python",
   "pygments_lexer": "ipython3",
   "version": "3.9.7"
  }
 },
 "nbformat": 4,
 "nbformat_minor": 5
}
