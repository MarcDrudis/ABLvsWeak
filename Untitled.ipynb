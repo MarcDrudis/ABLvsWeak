{
 "cells": [
  {
   "cell_type": "code",
   "execution_count": 89,
   "metadata": {},
   "outputs": [],
   "source": [
    "from qutip import *\n",
    "import numpy as np\n",
    "\n",
    "def ABL(M,pre,post):\n",
    "    aux=[(post*proj*pre).norm()**2 for proj in M]\n",
    "    Z=sum(aux)\n",
    "    return [a/Z for a in aux]\n",
    "\n",
    "def binary_ABL(P,pre,post):\n",
    "    M =[P,identity(P.shape[0])-P]\n",
    "    return ABL(M,pre,post)\n",
    "\n",
    "def create_ket(l:list) -> Qobj:\n",
    "    k = Qobj(np.array(l))\n",
    "    return k/k.norm()\n",
    "\n",
    "def create_bra(l:list) ->Qobj:\n",
    "    b = Qobj(np.array(l)).dag()\n",
    "    return b/b.norm()"
   ]
  },
  {
   "cell_type": "code",
   "execution_count": 68,
   "metadata": {},
   "outputs": [
    {
     "data": {
      "text/latex": [
       "Quantum object: dims = [[3], [1]], shape = (3, 1), type = ket\\begin{equation*}\\left(\\begin{array}{*{11}c}0.577\\\\0.577\\\\0.577\\\\\\end{array}\\right)\\end{equation*}"
      ],
      "text/plain": [
       "Quantum object: dims = [[3], [1]], shape = (3, 1), type = ket\n",
       "Qobj data =\n",
       "[[0.57735027]\n",
       " [0.57735027]\n",
       " [0.57735027]]"
      ]
     },
     "execution_count": 68,
     "metadata": {},
     "output_type": "execute_result"
    }
   ],
   "source": [
    "create_ket([1,1,1])"
   ]
  },
  {
   "cell_type": "markdown",
   "metadata": {},
   "source": [
    "Here we define the pre and post selection as well as the possible binary measurements for the 3 box paradox. Since a binary measurement is uniquely described by one of it's projectors, we don't need to create a full measurement."
   ]
  },
  {
   "cell_type": "code",
   "execution_count": 65,
   "metadata": {},
   "outputs": [
    {
     "name": "stdout",
     "output_type": "stream",
     "text": [
      "The ABL probability of finding/ not finding the ball in box 0 is: [1.0, 0.0]\n",
      "The ABL probability of finding/ not finding the ball in box 1 is: [1.0, 0.0]\n"
     ]
    }
   ],
   "source": [
    "pre = create_ket([1,1,1])\n",
    "post = create_bra([1,1,-1])\n",
    "\n",
    "box0 = projection(3,0,0)\n",
    "box1= projection(3,1,1)\n",
    "\n",
    "print(\"The ABL probability of finding/ not finding the ball in box 0 is:\",binary_ABL(box0,pre,post))\n",
    "print(\"The ABL probability of finding/ not finding the ball in box 1 is:\",binary_ABL(box1,pre,post))"
   ]
  },
  {
   "cell_type": "markdown",
   "metadata": {},
   "source": [
    "Here we reproduce the Cheshire Cat Paradox."
   ]
  },
  {
   "cell_type": "code",
   "execution_count": 88,
   "metadata": {},
   "outputs": [
    {
     "name": "stdout",
     "output_type": "stream",
     "text": [
      "Quantum object: dims = [[1, 1], [2, 2]], shape = (1, 4), type = bra\n",
      "Qobj data =\n",
      "[[1. 0. 0. 1.]] Quantum object: dims = [[2, 2], [2, 2]], shape = (4, 4), type = oper, isherm = True\n",
      "Qobj data =\n",
      "[[1. 0. 0. 0.]\n",
      " [0. 1. 0. 0.]\n",
      " [0. 0. 0. 0.]\n",
      " [0. 0. 0. 0.]] Quantum object: dims = [[2, 2], [1, 1]], shape = (4, 1), type = ket\n",
      "Qobj data =\n",
      "[[1.]\n",
      " [0.]\n",
      " [1.]\n",
      " [0.]]\n",
      "M1 has probs [0.6666666666666666, 0.0, 0.16666666666666666, 0.16666666666666666]\n"
     ]
    }
   ],
   "source": [
    "pre= ket(\"00\") + ket(\"10\")\n",
    "post= bra(\"00\")+bra(\"11\")\n",
    "\n",
    "left = projection(2,0,0)\n",
    "right = projection(2,1,1)\n",
    "\n",
    "horizontal = Qobj([[1,1],[1,1]])/2\n",
    "vertical = Qobj([[1,-1],[-1,1]])/2\n",
    "\n",
    "M1=[tensor(left,identity(2)),tensor(right,identity(2)),tensor(right,horizontal),tensor(right,vertical)]\n",
    "\n",
    "print('M1 has probs',ABL(M1,pre,post))"
   ]
  },
  {
   "cell_type": "markdown",
   "metadata": {},
   "source": [
    "Here we try to find some other case in which we get a finite probability for a binary measurement."
   ]
  },
  {
   "cell_type": "code",
   "execution_count": 90,
   "metadata": {},
   "outputs": [
    {
     "ename": "ValueError",
     "evalue": "invalid literal for int() with base 10: '-'",
     "output_type": "error",
     "traceback": [
      "\u001b[1;31m---------------------------------------------------------------------------\u001b[0m",
      "\u001b[1;31mValueError\u001b[0m                                Traceback (most recent call last)",
      "\u001b[1;32m<ipython-input-90-32b962f62c31>\u001b[0m in \u001b[0;36m<module>\u001b[1;34m\u001b[0m\n\u001b[1;32m----> 1\u001b[1;33m \u001b[0mpre\u001b[0m \u001b[1;33m=\u001b[0m \u001b[0mket\u001b[0m\u001b[1;33m(\u001b[0m\u001b[1;34m\"-\"\u001b[0m\u001b[1;33m)\u001b[0m\u001b[1;33m\u001b[0m\u001b[1;33m\u001b[0m\u001b[0m\n\u001b[0m\u001b[0;32m      2\u001b[0m \u001b[0mprint\u001b[0m\u001b[1;33m(\u001b[0m\u001b[0mpre\u001b[0m\u001b[1;33m)\u001b[0m\u001b[1;33m\u001b[0m\u001b[1;33m\u001b[0m\u001b[0m\n\u001b[0;32m      3\u001b[0m \u001b[0mpost\u001b[0m \u001b[1;33m=\u001b[0m\u001b[0mcreate_bra\u001b[0m\u001b[1;33m(\u001b[0m\u001b[1;33m[\u001b[0m\u001b[1;36m1\u001b[0m\u001b[1;33m,\u001b[0m\u001b[1;33m-\u001b[0m\u001b[1;36m1\u001b[0m\u001b[1;33m,\u001b[0m\u001b[1;33m-\u001b[0m\u001b[1;36m1\u001b[0m\u001b[1;33m,\u001b[0m\u001b[1;36m1\u001b[0m\u001b[1;33m]\u001b[0m\u001b[1;33m)\u001b[0m\u001b[1;33m\u001b[0m\u001b[1;33m\u001b[0m\u001b[0m\n\u001b[0;32m      4\u001b[0m \u001b[1;33m\u001b[0m\u001b[0m\n\u001b[0;32m      5\u001b[0m \u001b[1;33m\u001b[0m\u001b[0m\n",
      "\u001b[1;32m~\\anaconda3\\lib\\site-packages\\qutip\\states.py\u001b[0m in \u001b[0;36mket\u001b[1;34m(seq, dim)\u001b[0m\n\u001b[0;32m    698\u001b[0m     \u001b[1;32mif\u001b[0m \u001b[0misinstance\u001b[0m\u001b[1;33m(\u001b[0m\u001b[0mdim\u001b[0m\u001b[1;33m,\u001b[0m \u001b[0mint\u001b[0m\u001b[1;33m)\u001b[0m\u001b[1;33m:\u001b[0m\u001b[1;33m\u001b[0m\u001b[1;33m\u001b[0m\u001b[0m\n\u001b[0;32m    699\u001b[0m         \u001b[0mdim\u001b[0m \u001b[1;33m=\u001b[0m \u001b[1;33m[\u001b[0m\u001b[0mdim\u001b[0m\u001b[1;33m]\u001b[0m \u001b[1;33m*\u001b[0m \u001b[0mlen\u001b[0m\u001b[1;33m(\u001b[0m\u001b[0mseq\u001b[0m\u001b[1;33m)\u001b[0m\u001b[1;33m\u001b[0m\u001b[1;33m\u001b[0m\u001b[0m\n\u001b[1;32m--> 700\u001b[1;33m     return tensor([basis(dim[i], _character_to_qudit(x))\n\u001b[0m\u001b[0;32m    701\u001b[0m                    for i, x in enumerate(seq)])\n\u001b[0;32m    702\u001b[0m \u001b[1;33m\u001b[0m\u001b[0m\n",
      "\u001b[1;32m~\\anaconda3\\lib\\site-packages\\qutip\\states.py\u001b[0m in \u001b[0;36m<listcomp>\u001b[1;34m(.0)\u001b[0m\n\u001b[0;32m    698\u001b[0m     \u001b[1;32mif\u001b[0m \u001b[0misinstance\u001b[0m\u001b[1;33m(\u001b[0m\u001b[0mdim\u001b[0m\u001b[1;33m,\u001b[0m \u001b[0mint\u001b[0m\u001b[1;33m)\u001b[0m\u001b[1;33m:\u001b[0m\u001b[1;33m\u001b[0m\u001b[1;33m\u001b[0m\u001b[0m\n\u001b[0;32m    699\u001b[0m         \u001b[0mdim\u001b[0m \u001b[1;33m=\u001b[0m \u001b[1;33m[\u001b[0m\u001b[0mdim\u001b[0m\u001b[1;33m]\u001b[0m \u001b[1;33m*\u001b[0m \u001b[0mlen\u001b[0m\u001b[1;33m(\u001b[0m\u001b[0mseq\u001b[0m\u001b[1;33m)\u001b[0m\u001b[1;33m\u001b[0m\u001b[1;33m\u001b[0m\u001b[0m\n\u001b[1;32m--> 700\u001b[1;33m     return tensor([basis(dim[i], _character_to_qudit(x))\n\u001b[0m\u001b[0;32m    701\u001b[0m                    for i, x in enumerate(seq)])\n\u001b[0;32m    702\u001b[0m \u001b[1;33m\u001b[0m\u001b[0m\n",
      "\u001b[1;32m~\\anaconda3\\lib\\site-packages\\qutip\\states.py\u001b[0m in \u001b[0;36m_character_to_qudit\u001b[1;34m(x)\u001b[0m\n\u001b[0;32m    619\u001b[0m         \u001b[1;32mreturn\u001b[0m \u001b[0m_qubit_dict\u001b[0m\u001b[1;33m[\u001b[0m\u001b[0mx\u001b[0m\u001b[1;33m]\u001b[0m\u001b[1;33m\u001b[0m\u001b[1;33m\u001b[0m\u001b[0m\n\u001b[0;32m    620\u001b[0m     \u001b[1;32melse\u001b[0m\u001b[1;33m:\u001b[0m\u001b[1;33m\u001b[0m\u001b[1;33m\u001b[0m\u001b[0m\n\u001b[1;32m--> 621\u001b[1;33m         \u001b[1;32mreturn\u001b[0m \u001b[0mint\u001b[0m\u001b[1;33m(\u001b[0m\u001b[0mx\u001b[0m\u001b[1;33m)\u001b[0m\u001b[1;33m\u001b[0m\u001b[1;33m\u001b[0m\u001b[0m\n\u001b[0m\u001b[0;32m    622\u001b[0m \u001b[1;33m\u001b[0m\u001b[0m\n\u001b[0;32m    623\u001b[0m \u001b[1;33m\u001b[0m\u001b[0m\n",
      "\u001b[1;31mValueError\u001b[0m: invalid literal for int() with base 10: '-'"
     ]
    }
   ],
   "source": [
    "pre = ket(\"-\")\n",
    "print(pre)\n",
    "post =create_bra([1,-1,-1,1])\n",
    "\n",
    "\n",
    "\n",
    "print(\"For projector 1:\",binary_ABL(P1,pre,post))\n",
    "print(\"For projector 2:\", binary_ABL(P2,pre,post))"
   ]
  }
 ],
 "metadata": {
  "kernelspec": {
   "display_name": "Python 3 (ipykernel)",
   "language": "python",
   "name": "python3"
  },
  "language_info": {
   "codemirror_mode": {
    "name": "ipython",
    "version": 3
   },
   "file_extension": ".py",
   "mimetype": "text/x-python",
   "name": "python",
   "nbconvert_exporter": "python",
   "pygments_lexer": "ipython3",
   "version": "3.9.7"
  }
 },
 "nbformat": 4,
 "nbformat_minor": 4
}
