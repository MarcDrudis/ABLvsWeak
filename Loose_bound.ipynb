{
 "cells": [
  {
   "cell_type": "code",
   "execution_count": 23,
   "id": "ab2104d9",
   "metadata": {},
   "outputs": [],
   "source": [
    "from sympy import *"
   ]
  },
  {
   "cell_type": "code",
   "execution_count": 24,
   "id": "4710fe2b",
   "metadata": {},
   "outputs": [],
   "source": [
    "N=8\n",
    "x = symbols(f\"x:{N-1}\")\n",
    "y = symbols(f\"y:{N-1}\")\n",
    "alpha = symbols(\"alpha\")\n",
    "P =[x[i]+I*y[i] for i in range(N-1)]\n",
    "PP = [x[i]-I*y[i] for i in range(N-1)]\n",
    "abl = -1/alpha * P[0] * PP[0] + sum([P[i]*PP[i] for i in range(N-1)]) + (1-sum(P))*(1-sum(PP))"
   ]
  },
  {
   "cell_type": "code",
   "execution_count": 25,
   "id": "a46c8404",
   "metadata": {},
   "outputs": [
    {
     "data": {
      "text/latex": [
       "$\\displaystyle \\operatorname{Poly}{\\left( \\frac{2 \\alpha - 1}{\\alpha} x_{0}^{2} + 2 x_{0}x_{1} + 2 x_{0}x_{2} + 2 x_{0}x_{3} + 2 x_{0}x_{4} + 2 x_{0}x_{5} + 2 x_{0}x_{6} - 2 x_{0} + 2 x_{1}^{2} + 2 x_{1}x_{2} + 2 x_{1}x_{3} + 2 x_{1}x_{4} + 2 x_{1}x_{5} + 2 x_{1}x_{6} - 2 x_{1} + 2 x_{2}^{2} + 2 x_{2}x_{3} + 2 x_{2}x_{4} + 2 x_{2}x_{5} + 2 x_{2}x_{6} - 2 x_{2} + 2 x_{3}^{2} + 2 x_{3}x_{4} + 2 x_{3}x_{5} + 2 x_{3}x_{6} - 2 x_{3} + 2 x_{4}^{2} + 2 x_{4}x_{5} + 2 x_{4}x_{6} - 2 x_{4} + 2 x_{5}^{2} + 2 x_{5}x_{6} - 2 x_{5} + 2 x_{6}^{2} - 2 x_{6} + \\frac{2 \\alpha - 1}{\\alpha} y_{0}^{2} + 2 y_{0}y_{1} + 2 y_{0}y_{2} + 2 y_{0}y_{3} + 2 y_{0}y_{4} + 2 y_{0}y_{5} + 2 y_{0}y_{6} + 2 y_{1}^{2} + 2 y_{1}y_{2} + 2 y_{1}y_{3} + 2 y_{1}y_{4} + 2 y_{1}y_{5} + 2 y_{1}y_{6} + 2 y_{2}^{2} + 2 y_{2}y_{3} + 2 y_{2}y_{4} + 2 y_{2}y_{5} + 2 y_{2}y_{6} + 2 y_{3}^{2} + 2 y_{3}y_{4} + 2 y_{3}y_{5} + 2 y_{3}y_{6} + 2 y_{4}^{2} + 2 y_{4}y_{5} + 2 y_{4}y_{6} + 2 y_{5}^{2} + 2 y_{5}y_{6} + 2 y_{6}^{2} + 1, x_{0}, x_{1}, x_{2}, x_{3}, x_{4}, x_{5}, x_{6}, y_{0}, y_{1}, y_{2}, y_{3}, y_{4}, y_{5}, y_{6}, domain=\\mathbb{Z}\\left(\\alpha\\right) \\right)}$"
      ],
      "text/plain": [
       "Poly((2*alpha - 1)/alpha*x0**2 + 2*x0*x1 + 2*x0*x2 + 2*x0*x3 + 2*x0*x4 + 2*x0*x5 + 2*x0*x6 - 2*x0 + 2*x1**2 + 2*x1*x2 + 2*x1*x3 + 2*x1*x4 + 2*x1*x5 + 2*x1*x6 - 2*x1 + 2*x2**2 + 2*x2*x3 + 2*x2*x4 + 2*x2*x5 + 2*x2*x6 - 2*x2 + 2*x3**2 + 2*x3*x4 + 2*x3*x5 + 2*x3*x6 - 2*x3 + 2*x4**2 + 2*x4*x5 + 2*x4*x6 - 2*x4 + 2*x5**2 + 2*x5*x6 - 2*x5 + 2*x6**2 - 2*x6 + (2*alpha - 1)/alpha*y0**2 + 2*y0*y1 + 2*y0*y2 + 2*y0*y3 + 2*y0*y4 + 2*y0*y5 + 2*y0*y6 + 2*y1**2 + 2*y1*y2 + 2*y1*y3 + 2*y1*y4 + 2*y1*y5 + 2*y1*y6 + 2*y2**2 + 2*y2*y3 + 2*y2*y4 + 2*y2*y5 + 2*y2*y6 + 2*y3**2 + 2*y3*y4 + 2*y3*y5 + 2*y3*y6 + 2*y4**2 + 2*y4*y5 + 2*y4*y6 + 2*y5**2 + 2*y5*y6 + 2*y6**2 + 1, x0, x1, x2, x3, x4, x5, x6, y0, y1, y2, y3, y4, y5, y6, domain='ZZ(alpha)')"
      ]
     },
     "execution_count": 25,
     "metadata": {},
     "output_type": "execute_result"
    }
   ],
   "source": [
    "Poly(abl,x+y)\n",
    "# Poly(abl,x+y)"
   ]
  },
  {
   "cell_type": "code",
   "execution_count": 26,
   "id": "763dd868",
   "metadata": {
    "scrolled": true
   },
   "outputs": [
    {
     "data": {
      "text/latex": [
       "$\\displaystyle \\operatorname{Poly}{\\left( \\frac{2 \\alpha - 1}{\\alpha} y_{0}^{2} + 2 y_{0}y_{1} + 2 y_{0}y_{2} + 2 y_{0}y_{3} + 2 y_{0}y_{4} + 2 y_{0}y_{5} + 2 y_{0}y_{6} + 2 y_{1}^{2} + 2 y_{1}y_{2} + 2 y_{1}y_{3} + 2 y_{1}y_{4} + 2 y_{1}y_{5} + 2 y_{1}y_{6} + 2 y_{2}^{2} + 2 y_{2}y_{3} + 2 y_{2}y_{4} + 2 y_{2}y_{5} + 2 y_{2}y_{6} + 2 y_{3}^{2} + 2 y_{3}y_{4} + 2 y_{3}y_{5} + 2 y_{3}y_{6} + 2 y_{4}^{2} + 2 y_{4}y_{5} + 2 y_{4}y_{6} + 2 y_{5}^{2} + 2 y_{5}y_{6} + 2 y_{6}^{2}, y_{0}, y_{1}, y_{2}, y_{3}, y_{4}, y_{5}, y_{6}, domain=\\mathbb{Z}\\left(\\alpha\\right) \\right)}$"
      ],
      "text/plain": [
       "Poly((2*alpha - 1)/alpha*y0**2 + 2*y0*y1 + 2*y0*y2 + 2*y0*y3 + 2*y0*y4 + 2*y0*y5 + 2*y0*y6 + 2*y1**2 + 2*y1*y2 + 2*y1*y3 + 2*y1*y4 + 2*y1*y5 + 2*y1*y6 + 2*y2**2 + 2*y2*y3 + 2*y2*y4 + 2*y2*y5 + 2*y2*y6 + 2*y3**2 + 2*y3*y4 + 2*y3*y5 + 2*y3*y6 + 2*y4**2 + 2*y4*y5 + 2*y4*y6 + 2*y5**2 + 2*y5*y6 + 2*y6**2, y0, y1, y2, y3, y4, y5, y6, domain='ZZ(alpha)')"
      ]
     },
     "execution_count": 26,
     "metadata": {},
     "output_type": "execute_result"
    }
   ],
   "source": [
    "im_abl=abl.subs(zip(x,[0]*(N-1)))-1\n",
    "Poly(im_abl,y)"
   ]
  },
  {
   "cell_type": "code",
   "execution_count": 27,
   "id": "3deb7b14",
   "metadata": {},
   "outputs": [
    {
     "data": {
      "text/latex": [
       "$\\displaystyle \\operatorname{Poly}{\\left( \\frac{2 \\alpha - 1}{\\alpha} x_{0}^{2} + \\left(2 x_{1} + 2 x_{2} + 2 x_{3} + 2 x_{4} + 2 x_{5} + 2 x_{6} - 2\\right) x_{0} + 2 x_{1}^{2} + 2 x_{1} x_{2} + 2 x_{1} x_{3} + 2 x_{1} x_{4} + 2 x_{1} x_{5} + 2 x_{1} x_{6} - 2 x_{1} + 2 x_{2}^{2} + 2 x_{2} x_{3} + 2 x_{2} x_{4} + 2 x_{2} x_{5} + 2 x_{2} x_{6} - 2 x_{2} + 2 x_{3}^{2} + 2 x_{3} x_{4} + 2 x_{3} x_{5} + 2 x_{3} x_{6} - 2 x_{3} + 2 x_{4}^{2} + 2 x_{4} x_{5} + 2 x_{4} x_{6} - 2 x_{4} + 2 x_{5}^{2} + 2 x_{5} x_{6} - 2 x_{5} + 2 x_{6}^{2} - 2 x_{6}, x_{0}, domain=\\mathbb{Z}\\left(x_{1}, x_{2}, x_{3}, x_{4}, x_{5}, x_{6}, \\alpha\\right) \\right)}$"
      ],
      "text/plain": [
       "Poly((2*alpha - 1)/alpha*x0**2 + (2*x1 + 2*x2 + 2*x3 + 2*x4 + 2*x5 + 2*x6 - 2)*x0 + 2*x1**2 + 2*x1*x2 + 2*x1*x3 + 2*x1*x4 + 2*x1*x5 + 2*x1*x6 - 2*x1 + 2*x2**2 + 2*x2*x3 + 2*x2*x4 + 2*x2*x5 + 2*x2*x6 - 2*x2 + 2*x3**2 + 2*x3*x4 + 2*x3*x5 + 2*x3*x6 - 2*x3 + 2*x4**2 + 2*x4*x5 + 2*x4*x6 - 2*x4 + 2*x5**2 + 2*x5*x6 - 2*x5 + 2*x6**2 - 2*x6, x0, domain='ZZ(x1,x2,x3,x4,x5,x6,alpha)')"
      ]
     },
     "execution_count": 27,
     "metadata": {},
     "output_type": "execute_result"
    }
   ],
   "source": [
    "parabola=Poly(abl.subs(zip(y,[0]*(N-1)))-1,x[0])\n",
    "parabola"
   ]
  },
  {
   "cell_type": "code",
   "execution_count": 28,
   "id": "6cdc75de",
   "metadata": {},
   "outputs": [
    {
     "data": {
      "text/latex": [
       "$\\displaystyle \\frac{\\left(2 \\alpha - 1\\right) \\left(\\frac{\\alpha \\left(2 x_{1} + 2 x_{2} + 2 x_{3} + 2 x_{4} + 2 x_{5} + 2 x_{6} - 2\\right)}{2 \\left(2 \\alpha - 1\\right)} + x_{0}\\right)^{2}}{\\alpha}$"
      ],
      "text/plain": [
       "(2*alpha - 1)*(alpha*(2*x1 + 2*x2 + 2*x3 + 2*x4 + 2*x5 + 2*x6 - 2)/(2*(2*alpha - 1)) + x0)**2/alpha"
      ]
     },
     "execution_count": 28,
     "metadata": {},
     "output_type": "execute_result"
    }
   ],
   "source": [
    "d=parabola.coeff_monomial(x[0]**2)\n",
    "e=parabola.coeff_monomial(x[0])/(2*d)\n",
    "f=parabola.coeff_monomial(1)-d*e**2\n",
    "par=d*(x[0]+e)**2\n",
    "par"
   ]
  },
  {
   "cell_type": "code",
   "execution_count": 29,
   "id": "18ee342f",
   "metadata": {},
   "outputs": [
    {
     "data": {
      "text/latex": [
       "$\\displaystyle - \\frac{4 \\alpha^{2} x_{1}^{2}}{8 \\alpha^{2} - 8 \\alpha + 2} - \\frac{8 \\alpha^{2} x_{1} x_{2}}{8 \\alpha^{2} - 8 \\alpha + 2} - \\frac{8 \\alpha^{2} x_{1} x_{3}}{8 \\alpha^{2} - 8 \\alpha + 2} - \\frac{8 \\alpha^{2} x_{1} x_{4}}{8 \\alpha^{2} - 8 \\alpha + 2} - \\frac{8 \\alpha^{2} x_{1} x_{5}}{8 \\alpha^{2} - 8 \\alpha + 2} - \\frac{8 \\alpha^{2} x_{1} x_{6}}{8 \\alpha^{2} - 8 \\alpha + 2} + \\frac{8 \\alpha^{2} x_{1}}{8 \\alpha^{2} - 8 \\alpha + 2} - \\frac{4 \\alpha^{2} x_{2}^{2}}{8 \\alpha^{2} - 8 \\alpha + 2} - \\frac{8 \\alpha^{2} x_{2} x_{3}}{8 \\alpha^{2} - 8 \\alpha + 2} - \\frac{8 \\alpha^{2} x_{2} x_{4}}{8 \\alpha^{2} - 8 \\alpha + 2} - \\frac{8 \\alpha^{2} x_{2} x_{5}}{8 \\alpha^{2} - 8 \\alpha + 2} - \\frac{8 \\alpha^{2} x_{2} x_{6}}{8 \\alpha^{2} - 8 \\alpha + 2} + \\frac{8 \\alpha^{2} x_{2}}{8 \\alpha^{2} - 8 \\alpha + 2} - \\frac{4 \\alpha^{2} x_{3}^{2}}{8 \\alpha^{2} - 8 \\alpha + 2} - \\frac{8 \\alpha^{2} x_{3} x_{4}}{8 \\alpha^{2} - 8 \\alpha + 2} - \\frac{8 \\alpha^{2} x_{3} x_{5}}{8 \\alpha^{2} - 8 \\alpha + 2} - \\frac{8 \\alpha^{2} x_{3} x_{6}}{8 \\alpha^{2} - 8 \\alpha + 2} + \\frac{8 \\alpha^{2} x_{3}}{8 \\alpha^{2} - 8 \\alpha + 2} - \\frac{4 \\alpha^{2} x_{4}^{2}}{8 \\alpha^{2} - 8 \\alpha + 2} - \\frac{8 \\alpha^{2} x_{4} x_{5}}{8 \\alpha^{2} - 8 \\alpha + 2} - \\frac{8 \\alpha^{2} x_{4} x_{6}}{8 \\alpha^{2} - 8 \\alpha + 2} + \\frac{8 \\alpha^{2} x_{4}}{8 \\alpha^{2} - 8 \\alpha + 2} - \\frac{4 \\alpha^{2} x_{5}^{2}}{8 \\alpha^{2} - 8 \\alpha + 2} - \\frac{8 \\alpha^{2} x_{5} x_{6}}{8 \\alpha^{2} - 8 \\alpha + 2} + \\frac{8 \\alpha^{2} x_{5}}{8 \\alpha^{2} - 8 \\alpha + 2} - \\frac{4 \\alpha^{2} x_{6}^{2}}{8 \\alpha^{2} - 8 \\alpha + 2} + \\frac{8 \\alpha^{2} x_{6}}{8 \\alpha^{2} - 8 \\alpha + 2} - \\frac{4 \\alpha^{2}}{8 \\alpha^{2} - 8 \\alpha + 2} - \\frac{4 \\alpha x_{0} x_{1}}{2 \\alpha - 1} - \\frac{4 \\alpha x_{0} x_{2}}{2 \\alpha - 1} - \\frac{4 \\alpha x_{0} x_{3}}{2 \\alpha - 1} - \\frac{4 \\alpha x_{0} x_{4}}{2 \\alpha - 1} - \\frac{4 \\alpha x_{0} x_{5}}{2 \\alpha - 1} - \\frac{4 \\alpha x_{0} x_{6}}{2 \\alpha - 1} + \\frac{4 \\alpha x_{0}}{2 \\alpha - 1} + \\frac{4 \\alpha x_{1}^{2}}{16 \\alpha^{2} - 16 \\alpha + 4} + \\frac{8 \\alpha x_{1} x_{2}}{16 \\alpha^{2} - 16 \\alpha + 4} + \\frac{8 \\alpha x_{1} x_{3}}{16 \\alpha^{2} - 16 \\alpha + 4} + \\frac{8 \\alpha x_{1} x_{4}}{16 \\alpha^{2} - 16 \\alpha + 4} + \\frac{8 \\alpha x_{1} x_{5}}{16 \\alpha^{2} - 16 \\alpha + 4} + \\frac{8 \\alpha x_{1} x_{6}}{16 \\alpha^{2} - 16 \\alpha + 4} - \\frac{8 \\alpha x_{1}}{16 \\alpha^{2} - 16 \\alpha + 4} + \\frac{4 \\alpha x_{2}^{2}}{16 \\alpha^{2} - 16 \\alpha + 4} + \\frac{8 \\alpha x_{2} x_{3}}{16 \\alpha^{2} - 16 \\alpha + 4} + \\frac{8 \\alpha x_{2} x_{4}}{16 \\alpha^{2} - 16 \\alpha + 4} + \\frac{8 \\alpha x_{2} x_{5}}{16 \\alpha^{2} - 16 \\alpha + 4} + \\frac{8 \\alpha x_{2} x_{6}}{16 \\alpha^{2} - 16 \\alpha + 4} - \\frac{8 \\alpha x_{2}}{16 \\alpha^{2} - 16 \\alpha + 4} + \\frac{4 \\alpha x_{3}^{2}}{16 \\alpha^{2} - 16 \\alpha + 4} + \\frac{8 \\alpha x_{3} x_{4}}{16 \\alpha^{2} - 16 \\alpha + 4} + \\frac{8 \\alpha x_{3} x_{5}}{16 \\alpha^{2} - 16 \\alpha + 4} + \\frac{8 \\alpha x_{3} x_{6}}{16 \\alpha^{2} - 16 \\alpha + 4} - \\frac{8 \\alpha x_{3}}{16 \\alpha^{2} - 16 \\alpha + 4} + \\frac{4 \\alpha x_{4}^{2}}{16 \\alpha^{2} - 16 \\alpha + 4} + \\frac{8 \\alpha x_{4} x_{5}}{16 \\alpha^{2} - 16 \\alpha + 4} + \\frac{8 \\alpha x_{4} x_{6}}{16 \\alpha^{2} - 16 \\alpha + 4} - \\frac{8 \\alpha x_{4}}{16 \\alpha^{2} - 16 \\alpha + 4} + \\frac{4 \\alpha x_{5}^{2}}{16 \\alpha^{2} - 16 \\alpha + 4} + \\frac{8 \\alpha x_{5} x_{6}}{16 \\alpha^{2} - 16 \\alpha + 4} - \\frac{8 \\alpha x_{5}}{16 \\alpha^{2} - 16 \\alpha + 4} + \\frac{4 \\alpha x_{6}^{2}}{16 \\alpha^{2} - 16 \\alpha + 4} - \\frac{8 \\alpha x_{6}}{16 \\alpha^{2} - 16 \\alpha + 4} + \\frac{4 \\alpha}{16 \\alpha^{2} - 16 \\alpha + 4} + 2 x_{0} x_{1} + \\frac{2 x_{0} x_{1}}{2 \\alpha - 1} + 2 x_{0} x_{2} + \\frac{2 x_{0} x_{2}}{2 \\alpha - 1} + 2 x_{0} x_{3} + \\frac{2 x_{0} x_{3}}{2 \\alpha - 1} + 2 x_{0} x_{4} + \\frac{2 x_{0} x_{4}}{2 \\alpha - 1} + 2 x_{0} x_{5} + \\frac{2 x_{0} x_{5}}{2 \\alpha - 1} + 2 x_{0} x_{6} + \\frac{2 x_{0} x_{6}}{2 \\alpha - 1} - 2 x_{0} - \\frac{2 x_{0}}{2 \\alpha - 1} + 2 x_{1}^{2} + 2 x_{1} x_{2} + 2 x_{1} x_{3} + 2 x_{1} x_{4} + 2 x_{1} x_{5} + 2 x_{1} x_{6} - 2 x_{1} + 2 x_{2}^{2} + 2 x_{2} x_{3} + 2 x_{2} x_{4} + 2 x_{2} x_{5} + 2 x_{2} x_{6} - 2 x_{2} + 2 x_{3}^{2} + 2 x_{3} x_{4} + 2 x_{3} x_{5} + 2 x_{3} x_{6} - 2 x_{3} + 2 x_{4}^{2} + 2 x_{4} x_{5} + 2 x_{4} x_{6} - 2 x_{4} + 2 x_{5}^{2} + 2 x_{5} x_{6} - 2 x_{5} + 2 x_{6}^{2} - 2 x_{6} + 1$"
      ],
      "text/plain": [
       "-4*alpha**2*x1**2/(8*alpha**2 - 8*alpha + 2) - 8*alpha**2*x1*x2/(8*alpha**2 - 8*alpha + 2) - 8*alpha**2*x1*x3/(8*alpha**2 - 8*alpha + 2) - 8*alpha**2*x1*x4/(8*alpha**2 - 8*alpha + 2) - 8*alpha**2*x1*x5/(8*alpha**2 - 8*alpha + 2) - 8*alpha**2*x1*x6/(8*alpha**2 - 8*alpha + 2) + 8*alpha**2*x1/(8*alpha**2 - 8*alpha + 2) - 4*alpha**2*x2**2/(8*alpha**2 - 8*alpha + 2) - 8*alpha**2*x2*x3/(8*alpha**2 - 8*alpha + 2) - 8*alpha**2*x2*x4/(8*alpha**2 - 8*alpha + 2) - 8*alpha**2*x2*x5/(8*alpha**2 - 8*alpha + 2) - 8*alpha**2*x2*x6/(8*alpha**2 - 8*alpha + 2) + 8*alpha**2*x2/(8*alpha**2 - 8*alpha + 2) - 4*alpha**2*x3**2/(8*alpha**2 - 8*alpha + 2) - 8*alpha**2*x3*x4/(8*alpha**2 - 8*alpha + 2) - 8*alpha**2*x3*x5/(8*alpha**2 - 8*alpha + 2) - 8*alpha**2*x3*x6/(8*alpha**2 - 8*alpha + 2) + 8*alpha**2*x3/(8*alpha**2 - 8*alpha + 2) - 4*alpha**2*x4**2/(8*alpha**2 - 8*alpha + 2) - 8*alpha**2*x4*x5/(8*alpha**2 - 8*alpha + 2) - 8*alpha**2*x4*x6/(8*alpha**2 - 8*alpha + 2) + 8*alpha**2*x4/(8*alpha**2 - 8*alpha + 2) - 4*alpha**2*x5**2/(8*alpha**2 - 8*alpha + 2) - 8*alpha**2*x5*x6/(8*alpha**2 - 8*alpha + 2) + 8*alpha**2*x5/(8*alpha**2 - 8*alpha + 2) - 4*alpha**2*x6**2/(8*alpha**2 - 8*alpha + 2) + 8*alpha**2*x6/(8*alpha**2 - 8*alpha + 2) - 4*alpha**2/(8*alpha**2 - 8*alpha + 2) - 4*alpha*x0*x1/(2*alpha - 1) - 4*alpha*x0*x2/(2*alpha - 1) - 4*alpha*x0*x3/(2*alpha - 1) - 4*alpha*x0*x4/(2*alpha - 1) - 4*alpha*x0*x5/(2*alpha - 1) - 4*alpha*x0*x6/(2*alpha - 1) + 4*alpha*x0/(2*alpha - 1) + 4*alpha*x1**2/(16*alpha**2 - 16*alpha + 4) + 8*alpha*x1*x2/(16*alpha**2 - 16*alpha + 4) + 8*alpha*x1*x3/(16*alpha**2 - 16*alpha + 4) + 8*alpha*x1*x4/(16*alpha**2 - 16*alpha + 4) + 8*alpha*x1*x5/(16*alpha**2 - 16*alpha + 4) + 8*alpha*x1*x6/(16*alpha**2 - 16*alpha + 4) - 8*alpha*x1/(16*alpha**2 - 16*alpha + 4) + 4*alpha*x2**2/(16*alpha**2 - 16*alpha + 4) + 8*alpha*x2*x3/(16*alpha**2 - 16*alpha + 4) + 8*alpha*x2*x4/(16*alpha**2 - 16*alpha + 4) + 8*alpha*x2*x5/(16*alpha**2 - 16*alpha + 4) + 8*alpha*x2*x6/(16*alpha**2 - 16*alpha + 4) - 8*alpha*x2/(16*alpha**2 - 16*alpha + 4) + 4*alpha*x3**2/(16*alpha**2 - 16*alpha + 4) + 8*alpha*x3*x4/(16*alpha**2 - 16*alpha + 4) + 8*alpha*x3*x5/(16*alpha**2 - 16*alpha + 4) + 8*alpha*x3*x6/(16*alpha**2 - 16*alpha + 4) - 8*alpha*x3/(16*alpha**2 - 16*alpha + 4) + 4*alpha*x4**2/(16*alpha**2 - 16*alpha + 4) + 8*alpha*x4*x5/(16*alpha**2 - 16*alpha + 4) + 8*alpha*x4*x6/(16*alpha**2 - 16*alpha + 4) - 8*alpha*x4/(16*alpha**2 - 16*alpha + 4) + 4*alpha*x5**2/(16*alpha**2 - 16*alpha + 4) + 8*alpha*x5*x6/(16*alpha**2 - 16*alpha + 4) - 8*alpha*x5/(16*alpha**2 - 16*alpha + 4) + 4*alpha*x6**2/(16*alpha**2 - 16*alpha + 4) - 8*alpha*x6/(16*alpha**2 - 16*alpha + 4) + 4*alpha/(16*alpha**2 - 16*alpha + 4) + 2*x0*x1 + 2*x0*x1/(2*alpha - 1) + 2*x0*x2 + 2*x0*x2/(2*alpha - 1) + 2*x0*x3 + 2*x0*x3/(2*alpha - 1) + 2*x0*x4 + 2*x0*x4/(2*alpha - 1) + 2*x0*x5 + 2*x0*x5/(2*alpha - 1) + 2*x0*x6 + 2*x0*x6/(2*alpha - 1) - 2*x0 - 2*x0/(2*alpha - 1) + 2*x1**2 + 2*x1*x2 + 2*x1*x3 + 2*x1*x4 + 2*x1*x5 + 2*x1*x6 - 2*x1 + 2*x2**2 + 2*x2*x3 + 2*x2*x4 + 2*x2*x5 + 2*x2*x6 - 2*x2 + 2*x3**2 + 2*x3*x4 + 2*x3*x5 + 2*x3*x6 - 2*x3 + 2*x4**2 + 2*x4*x5 + 2*x4*x6 - 2*x4 + 2*x5**2 + 2*x5*x6 - 2*x5 + 2*x6**2 - 2*x6 + 1"
      ]
     },
     "execution_count": 29,
     "metadata": {},
     "output_type": "execute_result"
    }
   ],
   "source": [
    "Remainder = abl-par-im_abl\n",
    "expand(Remainder)"
   ]
  },
  {
   "cell_type": "code",
   "execution_count": 30,
   "id": "b33bbbfb",
   "metadata": {},
   "outputs": [
    {
     "data": {
      "text/latex": [
       "$\\displaystyle 0$"
      ],
      "text/plain": [
       "0"
      ]
     },
     "execution_count": 30,
     "metadata": {},
     "output_type": "execute_result"
    }
   ],
   "source": [
    "expand(par+im_abl+Remainder-abl)"
   ]
  },
  {
   "cell_type": "code",
   "execution_count": 31,
   "id": "9f23cf17",
   "metadata": {},
   "outputs": [
    {
     "data": {
      "text/latex": [
       "$\\displaystyle 2 y_{0}^{2} + 2 y_{0} y_{1} + 2 y_{0} y_{2} + 2 y_{0} y_{3} + 2 y_{0} y_{4} + 2 y_{0} y_{5} + 2 y_{0} y_{6} + 2 y_{1}^{2} + 2 y_{1} y_{2} + 2 y_{1} y_{3} + 2 y_{1} y_{4} + 2 y_{1} y_{5} + 2 y_{1} y_{6} + 2 y_{2}^{2} + 2 y_{2} y_{3} + 2 y_{2} y_{4} + 2 y_{2} y_{5} + 2 y_{2} y_{6} + 2 y_{3}^{2} + 2 y_{3} y_{4} + 2 y_{3} y_{5} + 2 y_{3} y_{6} + 2 y_{4}^{2} + 2 y_{4} y_{5} + 2 y_{4} y_{6} + 2 y_{5}^{2} + 2 y_{5} y_{6} + 2 y_{6}^{2} - \\frac{y_{0}^{2}}{\\alpha}$"
      ],
      "text/plain": [
       "2*y0**2 + 2*y0*y1 + 2*y0*y2 + 2*y0*y3 + 2*y0*y4 + 2*y0*y5 + 2*y0*y6 + 2*y1**2 + 2*y1*y2 + 2*y1*y3 + 2*y1*y4 + 2*y1*y5 + 2*y1*y6 + 2*y2**2 + 2*y2*y3 + 2*y2*y4 + 2*y2*y5 + 2*y2*y6 + 2*y3**2 + 2*y3*y4 + 2*y3*y5 + 2*y3*y6 + 2*y4**2 + 2*y4*y5 + 2*y4*y6 + 2*y5**2 + 2*y5*y6 + 2*y6**2 - y0**2/alpha"
      ]
     },
     "metadata": {},
     "output_type": "display_data"
    },
    {
     "data": {
      "text/latex": [
       "$\\displaystyle \\left[\\begin{matrix}2 - \\frac{1}{\\alpha} & 1 & 1 & 1\\\\1 & 2 & 1 & 1\\\\1 & 1 & 2 & 1\\\\1 & 1 & 1 & 2\\end{matrix}\\right]$"
      ],
      "text/plain": [
       "Matrix([\n",
       "[2 - 1/alpha, 1, 1, 1],\n",
       "[          1, 2, 1, 1],\n",
       "[          1, 1, 2, 1],\n",
       "[          1, 1, 1, 2]])"
      ]
     },
     "metadata": {},
     "output_type": "display_data"
    },
    {
     "data": {
      "text/plain": [
       "{1: 2,\n",
       " (6*alpha - sqrt(16*alpha**2 + 4*alpha + 1) - 1)/(2*alpha): 1,\n",
       " (6*alpha + sqrt(16*alpha**2 + 4*alpha + 1) - 1)/(2*alpha): 1}"
      ]
     },
     "metadata": {},
     "output_type": "display_data"
    },
    {
     "data": {
      "text/plain": [
       "[4/5]"
      ]
     },
     "execution_count": 31,
     "metadata": {},
     "output_type": "execute_result"
    }
   ],
   "source": [
    "display(expand(im_abl))\n",
    "im_mat=Matrix([[2-1/alpha,1,1,1],[1,2,1,1],[1,1,2,1],[1,1,1,2]])\n",
    "display(im_mat)\n",
    "display(im_mat.eigenvals())\n",
    "solve(list(im_mat.eigenvals().keys())[1])"
   ]
  },
  {
   "cell_type": "markdown",
   "id": "c569c66e",
   "metadata": {},
   "source": [
    "We make the assumption that im_abl is positive. That means that 0 will be the value that will increase the range of x. This assumption holds for alpha over 1 half"
   ]
  },
  {
   "cell_type": "code",
   "execution_count": 32,
   "id": "08683c56",
   "metadata": {},
   "outputs": [
    {
     "data": {
      "text/latex": [
       "$\\displaystyle \\frac{\\left(2 \\alpha - 1\\right) \\left(\\frac{\\alpha \\left(2 x_{1} + 2 x_{2} + 2 x_{3} + 2 x_{4} + 2 x_{5} + 2 x_{6} - 2\\right)}{2 \\left(2 \\alpha - 1\\right)} + x_{0}\\right)^{2}}{\\alpha} = \\frac{4 \\alpha^{2} x_{1}^{2}}{8 \\alpha^{2} - 8 \\alpha + 2} + \\frac{8 \\alpha^{2} x_{1} x_{2}}{8 \\alpha^{2} - 8 \\alpha + 2} + \\frac{8 \\alpha^{2} x_{1} x_{3}}{8 \\alpha^{2} - 8 \\alpha + 2} + \\frac{8 \\alpha^{2} x_{1} x_{4}}{8 \\alpha^{2} - 8 \\alpha + 2} + \\frac{8 \\alpha^{2} x_{1} x_{5}}{8 \\alpha^{2} - 8 \\alpha + 2} + \\frac{8 \\alpha^{2} x_{1} x_{6}}{8 \\alpha^{2} - 8 \\alpha + 2} - \\frac{8 \\alpha^{2} x_{1}}{8 \\alpha^{2} - 8 \\alpha + 2} + \\frac{4 \\alpha^{2} x_{2}^{2}}{8 \\alpha^{2} - 8 \\alpha + 2} + \\frac{8 \\alpha^{2} x_{2} x_{3}}{8 \\alpha^{2} - 8 \\alpha + 2} + \\frac{8 \\alpha^{2} x_{2} x_{4}}{8 \\alpha^{2} - 8 \\alpha + 2} + \\frac{8 \\alpha^{2} x_{2} x_{5}}{8 \\alpha^{2} - 8 \\alpha + 2} + \\frac{8 \\alpha^{2} x_{2} x_{6}}{8 \\alpha^{2} - 8 \\alpha + 2} - \\frac{8 \\alpha^{2} x_{2}}{8 \\alpha^{2} - 8 \\alpha + 2} + \\frac{4 \\alpha^{2} x_{3}^{2}}{8 \\alpha^{2} - 8 \\alpha + 2} + \\frac{8 \\alpha^{2} x_{3} x_{4}}{8 \\alpha^{2} - 8 \\alpha + 2} + \\frac{8 \\alpha^{2} x_{3} x_{5}}{8 \\alpha^{2} - 8 \\alpha + 2} + \\frac{8 \\alpha^{2} x_{3} x_{6}}{8 \\alpha^{2} - 8 \\alpha + 2} - \\frac{8 \\alpha^{2} x_{3}}{8 \\alpha^{2} - 8 \\alpha + 2} + \\frac{4 \\alpha^{2} x_{4}^{2}}{8 \\alpha^{2} - 8 \\alpha + 2} + \\frac{8 \\alpha^{2} x_{4} x_{5}}{8 \\alpha^{2} - 8 \\alpha + 2} + \\frac{8 \\alpha^{2} x_{4} x_{6}}{8 \\alpha^{2} - 8 \\alpha + 2} - \\frac{8 \\alpha^{2} x_{4}}{8 \\alpha^{2} - 8 \\alpha + 2} + \\frac{4 \\alpha^{2} x_{5}^{2}}{8 \\alpha^{2} - 8 \\alpha + 2} + \\frac{8 \\alpha^{2} x_{5} x_{6}}{8 \\alpha^{2} - 8 \\alpha + 2} - \\frac{8 \\alpha^{2} x_{5}}{8 \\alpha^{2} - 8 \\alpha + 2} + \\frac{4 \\alpha^{2} x_{6}^{2}}{8 \\alpha^{2} - 8 \\alpha + 2} - \\frac{8 \\alpha^{2} x_{6}}{8 \\alpha^{2} - 8 \\alpha + 2} + \\frac{4 \\alpha^{2}}{8 \\alpha^{2} - 8 \\alpha + 2} + \\frac{4 \\alpha x_{0} x_{1}}{2 \\alpha - 1} + \\frac{4 \\alpha x_{0} x_{2}}{2 \\alpha - 1} + \\frac{4 \\alpha x_{0} x_{3}}{2 \\alpha - 1} + \\frac{4 \\alpha x_{0} x_{4}}{2 \\alpha - 1} + \\frac{4 \\alpha x_{0} x_{5}}{2 \\alpha - 1} + \\frac{4 \\alpha x_{0} x_{6}}{2 \\alpha - 1} - \\frac{4 \\alpha x_{0}}{2 \\alpha - 1} - \\frac{4 \\alpha x_{1}^{2}}{16 \\alpha^{2} - 16 \\alpha + 4} - \\frac{8 \\alpha x_{1} x_{2}}{16 \\alpha^{2} - 16 \\alpha + 4} - \\frac{8 \\alpha x_{1} x_{3}}{16 \\alpha^{2} - 16 \\alpha + 4} - \\frac{8 \\alpha x_{1} x_{4}}{16 \\alpha^{2} - 16 \\alpha + 4} - \\frac{8 \\alpha x_{1} x_{5}}{16 \\alpha^{2} - 16 \\alpha + 4} - \\frac{8 \\alpha x_{1} x_{6}}{16 \\alpha^{2} - 16 \\alpha + 4} + \\frac{8 \\alpha x_{1}}{16 \\alpha^{2} - 16 \\alpha + 4} - \\frac{4 \\alpha x_{2}^{2}}{16 \\alpha^{2} - 16 \\alpha + 4} - \\frac{8 \\alpha x_{2} x_{3}}{16 \\alpha^{2} - 16 \\alpha + 4} - \\frac{8 \\alpha x_{2} x_{4}}{16 \\alpha^{2} - 16 \\alpha + 4} - \\frac{8 \\alpha x_{2} x_{5}}{16 \\alpha^{2} - 16 \\alpha + 4} - \\frac{8 \\alpha x_{2} x_{6}}{16 \\alpha^{2} - 16 \\alpha + 4} + \\frac{8 \\alpha x_{2}}{16 \\alpha^{2} - 16 \\alpha + 4} - \\frac{4 \\alpha x_{3}^{2}}{16 \\alpha^{2} - 16 \\alpha + 4} - \\frac{8 \\alpha x_{3} x_{4}}{16 \\alpha^{2} - 16 \\alpha + 4} - \\frac{8 \\alpha x_{3} x_{5}}{16 \\alpha^{2} - 16 \\alpha + 4} - \\frac{8 \\alpha x_{3} x_{6}}{16 \\alpha^{2} - 16 \\alpha + 4} + \\frac{8 \\alpha x_{3}}{16 \\alpha^{2} - 16 \\alpha + 4} - \\frac{4 \\alpha x_{4}^{2}}{16 \\alpha^{2} - 16 \\alpha + 4} - \\frac{8 \\alpha x_{4} x_{5}}{16 \\alpha^{2} - 16 \\alpha + 4} - \\frac{8 \\alpha x_{4} x_{6}}{16 \\alpha^{2} - 16 \\alpha + 4} + \\frac{8 \\alpha x_{4}}{16 \\alpha^{2} - 16 \\alpha + 4} - \\frac{4 \\alpha x_{5}^{2}}{16 \\alpha^{2} - 16 \\alpha + 4} - \\frac{8 \\alpha x_{5} x_{6}}{16 \\alpha^{2} - 16 \\alpha + 4} + \\frac{8 \\alpha x_{5}}{16 \\alpha^{2} - 16 \\alpha + 4} - \\frac{4 \\alpha x_{6}^{2}}{16 \\alpha^{2} - 16 \\alpha + 4} + \\frac{8 \\alpha x_{6}}{16 \\alpha^{2} - 16 \\alpha + 4} - \\frac{4 \\alpha}{16 \\alpha^{2} - 16 \\alpha + 4} - 2 x_{0} x_{1} - \\frac{2 x_{0} x_{1}}{2 \\alpha - 1} - 2 x_{0} x_{2} - \\frac{2 x_{0} x_{2}}{2 \\alpha - 1} - 2 x_{0} x_{3} - \\frac{2 x_{0} x_{3}}{2 \\alpha - 1} - 2 x_{0} x_{4} - \\frac{2 x_{0} x_{4}}{2 \\alpha - 1} - 2 x_{0} x_{5} - \\frac{2 x_{0} x_{5}}{2 \\alpha - 1} - 2 x_{0} x_{6} - \\frac{2 x_{0} x_{6}}{2 \\alpha - 1} + 2 x_{0} + \\frac{2 x_{0}}{2 \\alpha - 1} - 2 x_{1}^{2} - 2 x_{1} x_{2} - 2 x_{1} x_{3} - 2 x_{1} x_{4} - 2 x_{1} x_{5} - 2 x_{1} x_{6} + 2 x_{1} - 2 x_{2}^{2} - 2 x_{2} x_{3} - 2 x_{2} x_{4} - 2 x_{2} x_{5} - 2 x_{2} x_{6} + 2 x_{2} - 2 x_{3}^{2} - 2 x_{3} x_{4} - 2 x_{3} x_{5} - 2 x_{3} x_{6} + 2 x_{3} - 2 x_{4}^{2} - 2 x_{4} x_{5} - 2 x_{4} x_{6} + 2 x_{4} - 2 x_{5}^{2} - 2 x_{5} x_{6} + 2 x_{5} - 2 x_{6}^{2} + 2 x_{6} - 1$"
      ],
      "text/plain": [
       "Eq((2*alpha - 1)*(alpha*(2*x1 + 2*x2 + 2*x3 + 2*x4 + 2*x5 + 2*x6 - 2)/(2*(2*alpha - 1)) + x0)**2/alpha, 4*alpha**2*x1**2/(8*alpha**2 - 8*alpha + 2) + 8*alpha**2*x1*x2/(8*alpha**2 - 8*alpha + 2) + 8*alpha**2*x1*x3/(8*alpha**2 - 8*alpha + 2) + 8*alpha**2*x1*x4/(8*alpha**2 - 8*alpha + 2) + 8*alpha**2*x1*x5/(8*alpha**2 - 8*alpha + 2) + 8*alpha**2*x1*x6/(8*alpha**2 - 8*alpha + 2) - 8*alpha**2*x1/(8*alpha**2 - 8*alpha + 2) + 4*alpha**2*x2**2/(8*alpha**2 - 8*alpha + 2) + 8*alpha**2*x2*x3/(8*alpha**2 - 8*alpha + 2) + 8*alpha**2*x2*x4/(8*alpha**2 - 8*alpha + 2) + 8*alpha**2*x2*x5/(8*alpha**2 - 8*alpha + 2) + 8*alpha**2*x2*x6/(8*alpha**2 - 8*alpha + 2) - 8*alpha**2*x2/(8*alpha**2 - 8*alpha + 2) + 4*alpha**2*x3**2/(8*alpha**2 - 8*alpha + 2) + 8*alpha**2*x3*x4/(8*alpha**2 - 8*alpha + 2) + 8*alpha**2*x3*x5/(8*alpha**2 - 8*alpha + 2) + 8*alpha**2*x3*x6/(8*alpha**2 - 8*alpha + 2) - 8*alpha**2*x3/(8*alpha**2 - 8*alpha + 2) + 4*alpha**2*x4**2/(8*alpha**2 - 8*alpha + 2) + 8*alpha**2*x4*x5/(8*alpha**2 - 8*alpha + 2) + 8*alpha**2*x4*x6/(8*alpha**2 - 8*alpha + 2) - 8*alpha**2*x4/(8*alpha**2 - 8*alpha + 2) + 4*alpha**2*x5**2/(8*alpha**2 - 8*alpha + 2) + 8*alpha**2*x5*x6/(8*alpha**2 - 8*alpha + 2) - 8*alpha**2*x5/(8*alpha**2 - 8*alpha + 2) + 4*alpha**2*x6**2/(8*alpha**2 - 8*alpha + 2) - 8*alpha**2*x6/(8*alpha**2 - 8*alpha + 2) + 4*alpha**2/(8*alpha**2 - 8*alpha + 2) + 4*alpha*x0*x1/(2*alpha - 1) + 4*alpha*x0*x2/(2*alpha - 1) + 4*alpha*x0*x3/(2*alpha - 1) + 4*alpha*x0*x4/(2*alpha - 1) + 4*alpha*x0*x5/(2*alpha - 1) + 4*alpha*x0*x6/(2*alpha - 1) - 4*alpha*x0/(2*alpha - 1) - 4*alpha*x1**2/(16*alpha**2 - 16*alpha + 4) - 8*alpha*x1*x2/(16*alpha**2 - 16*alpha + 4) - 8*alpha*x1*x3/(16*alpha**2 - 16*alpha + 4) - 8*alpha*x1*x4/(16*alpha**2 - 16*alpha + 4) - 8*alpha*x1*x5/(16*alpha**2 - 16*alpha + 4) - 8*alpha*x1*x6/(16*alpha**2 - 16*alpha + 4) + 8*alpha*x1/(16*alpha**2 - 16*alpha + 4) - 4*alpha*x2**2/(16*alpha**2 - 16*alpha + 4) - 8*alpha*x2*x3/(16*alpha**2 - 16*alpha + 4) - 8*alpha*x2*x4/(16*alpha**2 - 16*alpha + 4) - 8*alpha*x2*x5/(16*alpha**2 - 16*alpha + 4) - 8*alpha*x2*x6/(16*alpha**2 - 16*alpha + 4) + 8*alpha*x2/(16*alpha**2 - 16*alpha + 4) - 4*alpha*x3**2/(16*alpha**2 - 16*alpha + 4) - 8*alpha*x3*x4/(16*alpha**2 - 16*alpha + 4) - 8*alpha*x3*x5/(16*alpha**2 - 16*alpha + 4) - 8*alpha*x3*x6/(16*alpha**2 - 16*alpha + 4) + 8*alpha*x3/(16*alpha**2 - 16*alpha + 4) - 4*alpha*x4**2/(16*alpha**2 - 16*alpha + 4) - 8*alpha*x4*x5/(16*alpha**2 - 16*alpha + 4) - 8*alpha*x4*x6/(16*alpha**2 - 16*alpha + 4) + 8*alpha*x4/(16*alpha**2 - 16*alpha + 4) - 4*alpha*x5**2/(16*alpha**2 - 16*alpha + 4) - 8*alpha*x5*x6/(16*alpha**2 - 16*alpha + 4) + 8*alpha*x5/(16*alpha**2 - 16*alpha + 4) - 4*alpha*x6**2/(16*alpha**2 - 16*alpha + 4) + 8*alpha*x6/(16*alpha**2 - 16*alpha + 4) - 4*alpha/(16*alpha**2 - 16*alpha + 4) - 2*x0*x1 - 2*x0*x1/(2*alpha - 1) - 2*x0*x2 - 2*x0*x2/(2*alpha - 1) - 2*x0*x3 - 2*x0*x3/(2*alpha - 1) - 2*x0*x4 - 2*x0*x4/(2*alpha - 1) - 2*x0*x5 - 2*x0*x5/(2*alpha - 1) - 2*x0*x6 - 2*x0*x6/(2*alpha - 1) + 2*x0 + 2*x0/(2*alpha - 1) - 2*x1**2 - 2*x1*x2 - 2*x1*x3 - 2*x1*x4 - 2*x1*x5 - 2*x1*x6 + 2*x1 - 2*x2**2 - 2*x2*x3 - 2*x2*x4 - 2*x2*x5 - 2*x2*x6 + 2*x2 - 2*x3**2 - 2*x3*x4 - 2*x3*x5 - 2*x3*x6 + 2*x3 - 2*x4**2 - 2*x4*x5 - 2*x4*x6 + 2*x4 - 2*x5**2 - 2*x5*x6 + 2*x5 - 2*x6**2 + 2*x6 - 1)"
      ]
     },
     "execution_count": 32,
     "metadata": {},
     "output_type": "execute_result"
    }
   ],
   "source": [
    "simplified = Eq(par,expand(-Remainder))\n",
    "simplified"
   ]
  },
  {
   "cell_type": "code",
   "execution_count": 33,
   "id": "8f0bbba1",
   "metadata": {},
   "outputs": [
    {
     "data": {
      "text/latex": [
       "$\\displaystyle - 4 \\lambda x_{0} - 2 \\lambda x_{1} - 2 \\lambda x_{2} - 2 \\lambda x_{3} - 2 \\lambda x_{4} - 2 \\lambda x_{5} - 2 \\lambda x_{6} + 2 \\lambda + 1 + \\frac{2 \\lambda x_{0}}{\\alpha}$"
      ],
      "text/plain": [
       "-4*lambda*x0 - 2*lambda*x1 - 2*lambda*x2 - 2*lambda*x3 - 2*lambda*x4 - 2*lambda*x5 - 2*lambda*x6 + 2*lambda + 1 + 2*lambda*x0/alpha"
      ]
     },
     "metadata": {},
     "output_type": "display_data"
    },
    {
     "data": {
      "text/latex": [
       "$\\displaystyle - 2 \\lambda x_{0} - 4 \\lambda x_{1} - 2 \\lambda x_{2} - 2 \\lambda x_{3} - 2 \\lambda x_{4} - 2 \\lambda x_{5} - 2 \\lambda x_{6} + 2 \\lambda$"
      ],
      "text/plain": [
       "-2*lambda*x0 - 4*lambda*x1 - 2*lambda*x2 - 2*lambda*x3 - 2*lambda*x4 - 2*lambda*x5 - 2*lambda*x6 + 2*lambda"
      ]
     },
     "metadata": {},
     "output_type": "display_data"
    },
    {
     "data": {
      "text/latex": [
       "$\\displaystyle - 2 \\lambda x_{0} - 2 \\lambda x_{1} - 4 \\lambda x_{2} - 2 \\lambda x_{3} - 2 \\lambda x_{4} - 2 \\lambda x_{5} - 2 \\lambda x_{6} + 2 \\lambda$"
      ],
      "text/plain": [
       "-2*lambda*x0 - 2*lambda*x1 - 4*lambda*x2 - 2*lambda*x3 - 2*lambda*x4 - 2*lambda*x5 - 2*lambda*x6 + 2*lambda"
      ]
     },
     "metadata": {},
     "output_type": "display_data"
    },
    {
     "data": {
      "text/latex": [
       "$\\displaystyle - 2 \\lambda x_{0} - 2 \\lambda x_{1} - 2 \\lambda x_{2} - 4 \\lambda x_{3} - 2 \\lambda x_{4} - 2 \\lambda x_{5} - 2 \\lambda x_{6} + 2 \\lambda$"
      ],
      "text/plain": [
       "-2*lambda*x0 - 2*lambda*x1 - 2*lambda*x2 - 4*lambda*x3 - 2*lambda*x4 - 2*lambda*x5 - 2*lambda*x6 + 2*lambda"
      ]
     },
     "metadata": {},
     "output_type": "display_data"
    },
    {
     "data": {
      "text/latex": [
       "$\\displaystyle - 2 \\lambda x_{0} - 2 \\lambda x_{1} - 2 \\lambda x_{2} - 2 \\lambda x_{3} - 4 \\lambda x_{4} - 2 \\lambda x_{5} - 2 \\lambda x_{6} + 2 \\lambda$"
      ],
      "text/plain": [
       "-2*lambda*x0 - 2*lambda*x1 - 2*lambda*x2 - 2*lambda*x3 - 4*lambda*x4 - 2*lambda*x5 - 2*lambda*x6 + 2*lambda"
      ]
     },
     "metadata": {},
     "output_type": "display_data"
    },
    {
     "data": {
      "text/latex": [
       "$\\displaystyle - 2 \\lambda x_{0} - 2 \\lambda x_{1} - 2 \\lambda x_{2} - 2 \\lambda x_{3} - 2 \\lambda x_{4} - 4 \\lambda x_{5} - 2 \\lambda x_{6} + 2 \\lambda$"
      ],
      "text/plain": [
       "-2*lambda*x0 - 2*lambda*x1 - 2*lambda*x2 - 2*lambda*x3 - 2*lambda*x4 - 4*lambda*x5 - 2*lambda*x6 + 2*lambda"
      ]
     },
     "metadata": {},
     "output_type": "display_data"
    },
    {
     "data": {
      "text/latex": [
       "$\\displaystyle - 2 \\lambda x_{0} - 2 \\lambda x_{1} - 2 \\lambda x_{2} - 2 \\lambda x_{3} - 2 \\lambda x_{4} - 2 \\lambda x_{5} - 4 \\lambda x_{6} + 2 \\lambda$"
      ],
      "text/plain": [
       "-2*lambda*x0 - 2*lambda*x1 - 2*lambda*x2 - 2*lambda*x3 - 2*lambda*x4 - 2*lambda*x5 - 4*lambda*x6 + 2*lambda"
      ]
     },
     "metadata": {},
     "output_type": "display_data"
    },
    {
     "data": {
      "text/latex": [
       "$\\displaystyle - 2 x_{0}^{2} - 2 x_{0} x_{1} - 2 x_{0} x_{2} - 2 x_{0} x_{3} - 2 x_{0} x_{4} - 2 x_{0} x_{5} - 2 x_{0} x_{6} + 2 x_{0} - 2 x_{1}^{2} - 2 x_{1} x_{2} - 2 x_{1} x_{3} - 2 x_{1} x_{4} - 2 x_{1} x_{5} - 2 x_{1} x_{6} + 2 x_{1} - 2 x_{2}^{2} - 2 x_{2} x_{3} - 2 x_{2} x_{4} - 2 x_{2} x_{5} - 2 x_{2} x_{6} + 2 x_{2} - 2 x_{3}^{2} - 2 x_{3} x_{4} - 2 x_{3} x_{5} - 2 x_{3} x_{6} + 2 x_{3} - 2 x_{4}^{2} - 2 x_{4} x_{5} - 2 x_{4} x_{6} + 2 x_{4} - 2 x_{5}^{2} - 2 x_{5} x_{6} + 2 x_{5} - 2 x_{6}^{2} + 2 x_{6} - 1 + \\frac{x_{0}^{2}}{\\alpha}$"
      ],
      "text/plain": [
       "-2*x0**2 - 2*x0*x1 - 2*x0*x2 - 2*x0*x3 - 2*x0*x4 - 2*x0*x5 - 2*x0*x6 + 2*x0 - 2*x1**2 - 2*x1*x2 - 2*x1*x3 - 2*x1*x4 - 2*x1*x5 - 2*x1*x6 + 2*x1 - 2*x2**2 - 2*x2*x3 - 2*x2*x4 - 2*x2*x5 - 2*x2*x6 + 2*x2 - 2*x3**2 - 2*x3*x4 - 2*x3*x5 - 2*x3*x6 + 2*x3 - 2*x4**2 - 2*x4*x5 - 2*x4*x6 + 2*x4 - 2*x5**2 - 2*x5*x6 + 2*x5 - 2*x6**2 + 2*x6 - 1 + x0**2/alpha"
      ]
     },
     "metadata": {},
     "output_type": "display_data"
    }
   ],
   "source": [
    "lmbda = symbols(\"lambda\")\n",
    "Lagrangian = x[0] - lmbda*(par+Remainder)\n",
    "gradient = [Lagrangian.diff(var) for var in x+(lmbda,)]\n",
    "for el in gradient:\n",
    "    display(expand(el))\n",
    "result = solve(gradient,x+(lmbda,))"
   ]
  },
  {
   "cell_type": "code",
   "execution_count": 34,
   "id": "778b5125",
   "metadata": {},
   "outputs": [
    {
     "data": {
      "text/plain": [
       "Text(0, 0.5, 'weak value')"
      ]
     },
     "execution_count": 34,
     "metadata": {},
     "output_type": "execute_result"
    },
    {
     "data": {
      "image/png": "[encoded data removed]",
      "text/plain": [
       "<Figure size 432x288 with 1 Axes>"
      ]
     },
     "metadata": {
      "needs_background": "light"
     },
     "output_type": "display_data"
    }
   ],
   "source": [
    "import numpy as np\n",
    "import matplotlib.pyplot as plt\n",
    "boundA=lambdify(alpha,result[0][0])\n",
    "boundB=lambdify(alpha,result[1][0])\n",
    "x_range=np.linspace(0,0.9999,200)\n",
    "A=np.clip(boundA(x_range),0,1)\n",
    "B=np.clip(boundB(x_range),0,1)\n",
    "plt.fill_between(x_range,A,B)\n",
    "plt.plot(x_range,B,color=\"red\")\n",
    "plt.axhline(0.5,color=\"red\")\n",
    "plt.axvline((N-1)/(N),color=\"red\")\n",
    "plt.xlabel(\"ABL\")\n",
    "plt.ylabel(\"weak value\")"
   ]
  },
  {
   "cell_type": "code",
   "execution_count": 35,
   "id": "13761247",
   "metadata": {},
   "outputs": [
    {
     "data": {
      "text/latex": [
       "$\\displaystyle \\left\\{\\alpha\\; \\middle|\\; \\alpha \\in \\mathbb{C} \\wedge \\frac{\\sqrt{7} \\alpha \\sqrt{- \\frac{\\alpha}{\\alpha - 1}} + \\alpha - \\sqrt{7} \\sqrt{- \\frac{\\alpha}{\\alpha - 1}}}{8 \\alpha - 7} < 0 \\right\\}$"
      ],
      "text/plain": [
       "ConditionSet(alpha, (sqrt(7)*alpha*sqrt(-alpha/(alpha - 1)) + alpha - sqrt(7)*sqrt(-alpha/(alpha - 1)))/(8*alpha - 7) < 0, Complexes)"
      ]
     },
     "execution_count": 35,
     "metadata": {},
     "output_type": "execute_result"
    }
   ],
   "source": [
    "solveset(result[1][0]<0)"
   ]
  },
  {
   "cell_type": "code",
   "execution_count": 36,
   "id": "13cc7cf7",
   "metadata": {},
   "outputs": [
    {
     "data": {
      "text/latex": [
       "$\\displaystyle \\left\\{\\alpha\\; \\middle|\\; \\alpha \\in \\mathbb{C} \\wedge \\frac{- \\sqrt{7} \\alpha \\sqrt{- \\frac{\\alpha}{\\alpha - 1}} + \\alpha + \\sqrt{7} \\sqrt{- \\frac{\\alpha}{\\alpha - 1}}}{8 \\alpha - 7} < 0 \\right\\}$"
      ],
      "text/plain": [
       "ConditionSet(alpha, (-sqrt(7)*alpha*sqrt(-alpha/(alpha - 1)) + alpha + sqrt(7)*sqrt(-alpha/(alpha - 1)))/(8*alpha - 7) < 0, Complexes)"
      ]
     },
     "execution_count": 36,
     "metadata": {},
     "output_type": "execute_result"
    }
   ],
   "source": [
    "solveset(result[0][0]<0)"
   ]
  }
 ],
 "metadata": {
  "kernelspec": {
   "display_name": "Python 3 (ipykernel)",
   "language": "python",
   "name": "python3"
  },
  "language_info": {
   "codemirror_mode": {
    "name": "ipython",
    "version": 3
   },
   "file_extension": ".py",
   "mimetype": "text/x-python",
   "name": "python",
   "nbconvert_exporter": "python",
   "pygments_lexer": "ipython3",
   "version": "3.9.7"
  }
 },
 "nbformat": 4,
 "nbformat_minor": 5
}
