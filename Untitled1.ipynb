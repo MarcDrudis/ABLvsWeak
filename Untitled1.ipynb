{
 "cells": [
  {
   "cell_type": "code",
   "execution_count": 1,
   "id": "b396a9eb",
   "metadata": {},
   "outputs": [],
   "source": [
    "from sympy import *"
   ]
  },
  {
   "cell_type": "code",
   "execution_count": 2,
   "id": "fe0da110",
   "metadata": {},
   "outputs": [
    {
     "data": {
      "text/latex": [
       "$\\displaystyle \\left[\\begin{matrix}0 & 1\\\\1 & 0\\end{matrix}\\right]$"
      ],
      "text/plain": [
       "Matrix([\n",
       "[0, 1],\n",
       "[1, 0]])"
      ]
     },
     "metadata": {},
     "output_type": "display_data"
    },
    {
     "data": {
      "text/latex": [
       "$\\displaystyle \\left[\\begin{matrix}0 & i\\\\- i & 0\\end{matrix}\\right]$"
      ],
      "text/plain": [
       "Matrix([\n",
       "[ 0, I],\n",
       "[-I, 0]])"
      ]
     },
     "metadata": {},
     "output_type": "display_data"
    },
    {
     "data": {
      "text/latex": [
       "$\\displaystyle \\left[\\begin{matrix}1 & 0\\\\0 & 1\\end{matrix}\\right]$"
      ],
      "text/plain": [
       "Matrix([\n",
       "[1, 0],\n",
       "[0, 1]])"
      ]
     },
     "metadata": {},
     "output_type": "display_data"
    }
   ],
   "source": [
    "X = Matrix([[0,1],[1,0]])\n",
    "Y = Matrix([[0,I],[-I,0]])\n",
    "Id = Matrix([[1,0],[0,1]])\n",
    "display(X)\n",
    "display(Y)\n",
    "display(Id)"
   ]
  },
  {
   "cell_type": "code",
   "execution_count": 3,
   "id": "29963d18",
   "metadata": {},
   "outputs": [
    {
     "data": {
      "text/latex": [
       "$\\displaystyle \\left[\\begin{matrix}0.5 & \\frac{0.5 i y}{\\sqrt{y^{2} + 1}} + \\frac{0.5}{\\sqrt{y^{2} + 1}}\\\\- \\frac{0.5 i y}{\\sqrt{y^{2} + 1}} + \\frac{0.5}{\\sqrt{y^{2} + 1}} & 0.5\\end{matrix}\\right]$"
      ],
      "text/plain": [
       "Matrix([\n",
       "[                                         0.5, 0.5*I*y/sqrt(y**2 + 1) + 0.5/sqrt(y**2 + 1)],\n",
       "[-0.5*I*y/sqrt(y**2 + 1) + 0.5/sqrt(y**2 + 1),                                         0.5]])"
      ]
     },
     "metadata": {},
     "output_type": "display_data"
    },
    {
     "data": {
      "text/latex": [
       "$\\displaystyle \\left[\\begin{matrix}0.5 & - \\frac{0.5 i y}{\\sqrt{y^{2} + 1}} + \\frac{0.5}{\\sqrt{y^{2} + 1}}\\\\\\frac{0.5 i y}{\\sqrt{y^{2} + 1}} + \\frac{0.5}{\\sqrt{y^{2} + 1}} & 0.5\\end{matrix}\\right]$"
      ],
      "text/plain": [
       "Matrix([\n",
       "[                                        0.5, -0.5*I*y/sqrt(y**2 + 1) + 0.5/sqrt(y**2 + 1)],\n",
       "[0.5*I*y/sqrt(y**2 + 1) + 0.5/sqrt(y**2 + 1),                                          0.5]])"
      ]
     },
     "metadata": {},
     "output_type": "display_data"
    },
    {
     "data": {
      "text/latex": [
       "$\\displaystyle \\left[\\begin{matrix}1\\\\0\\end{matrix}\\right]$"
      ],
      "text/plain": [
       "Matrix([\n",
       "[1],\n",
       "[0]])"
      ]
     },
     "metadata": {},
     "output_type": "display_data"
    },
    {
     "data": {
      "text/latex": [
       "$\\displaystyle \\left[\\begin{matrix}1\\\\c\\end{matrix}\\right]$"
      ],
      "text/plain": [
       "Matrix([\n",
       "[1],\n",
       "[c]])"
      ]
     },
     "metadata": {},
     "output_type": "display_data"
    }
   ],
   "source": [
    "y,c = symbols(\"y c\",real=True)\n",
    "norm = sqrt(1+y**2)\n",
    "P = 1/2 *(Id+1/norm * X + y/norm * Y)\n",
    "Q = 1/2 *(Id+1/norm * X - y/norm * Y)\n",
    "display(P)\n",
    "display(Q)\n",
    "pre_A = Matrix([1,0])\n",
    "post_A = Matrix([[1],[c]])\n",
    "display(pre_A)\n",
    "display(post_A)"
   ]
  },
  {
   "cell_type": "code",
   "execution_count": 5,
   "id": "ffbb36b7",
   "metadata": {},
   "outputs": [
    {
     "data": {
      "text/latex": [
       "$\\displaystyle c \\left(\\frac{0.5 i y}{\\sqrt{y^{2} + 1}} + \\frac{0.5}{\\sqrt{y^{2} + 1}}\\right) + 0.5$"
      ],
      "text/plain": [
       "c*(0.5*I*y/sqrt(y**2 + 1) + 0.5/sqrt(y**2 + 1)) + 0.5"
      ]
     },
     "metadata": {},
     "output_type": "display_data"
    },
    {
     "data": {
      "text/latex": [
       "$\\displaystyle c + \\sqrt{y^{2} + 1}$"
      ],
      "text/plain": [
       "c + sqrt(y**2 + 1)"
      ]
     },
     "metadata": {},
     "output_type": "display_data"
    },
    {
     "data": {
      "text/latex": [
       "$\\displaystyle \\frac{c y}{2 im_{exp}} - \\sqrt{y^{2} + 1}$"
      ],
      "text/plain": [
       "c*y/(2*im_exp) - sqrt(y**2 + 1)"
      ]
     },
     "metadata": {},
     "output_type": "display_data"
    }
   ],
   "source": [
    "def weakval(pre,post,P):\n",
    "    return (pre.dot(P*post))\n",
    "display(weakval(pre_A,post_A,P))\n",
    "constraintA = c + sqrt(1+y**2)\n",
    "display(constraintA)\n",
    "im_exp = symbols(\"im_exp\")\n",
    "constraintB = c*y/(2*im_exp)- sqrt(1+y**2)\n",
    "display(constraintB)"
   ]
  },
  {
   "cell_type": "code",
   "execution_count": 7,
   "id": "dbd1c4fd",
   "metadata": {},
   "outputs": [
    {
     "data": {
      "text/plain": [
       "[{c: -sqrt(y**2 + 1), im_exp: -y/2}]"
      ]
     },
     "execution_count": 7,
     "metadata": {},
     "output_type": "execute_result"
    }
   ],
   "source": [
    "solve([constraintA,constraintB])"
   ]
  },
  {
   "cell_type": "code",
   "execution_count": 9,
   "id": "9bf2dc8c",
   "metadata": {},
   "outputs": [
    {
     "data": {
      "text/latex": [
       "$\\displaystyle c \\left(\\frac{0.5 i y}{\\sqrt{y^{2} + 1}} + \\frac{0.5}{\\sqrt{y^{2} + 1}}\\right) + 0.5$"
      ],
      "text/plain": [
       "c*(0.5*I*y/sqrt(y**2 + 1) + 0.5/sqrt(y**2 + 1)) + 0.5"
      ]
     },
     "execution_count": 9,
     "metadata": {},
     "output_type": "execute_result"
    }
   ],
   "source": [
    "weakval(pre_A,post_A,P)"
   ]
  },
  {
   "cell_type": "code",
   "execution_count": null,
   "id": "8e66663a",
   "metadata": {},
   "outputs": [],
   "source": []
  },
  {
   "cell_type": "code",
   "execution_count": null,
   "id": "ed7d9fde",
   "metadata": {},
   "outputs": [],
   "source": []
  }
 ],
 "metadata": {
  "kernelspec": {
   "display_name": "Python 3 (ipykernel)",
   "language": "python",
   "name": "python3"
  },
  "language_info": {
   "codemirror_mode": {
    "name": "ipython",
    "version": 3
   },
   "file_extension": ".py",
   "mimetype": "text/x-python",
   "name": "python",
   "nbconvert_exporter": "python",
   "pygments_lexer": "ipython3",
   "version": "3.9.7"
  }
 },
 "nbformat": 4,
 "nbformat_minor": 5
}
