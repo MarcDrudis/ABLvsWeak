{
 "cells": [
  {
   "cell_type": "code",
   "execution_count": 2,
   "id": "dca084f5",
   "metadata": {},
   "outputs": [],
   "source": [
    "from sympy import *"
   ]
  },
  {
   "cell_type": "code",
   "execution_count": 10,
   "id": "0f4a5766",
   "metadata": {},
   "outputs": [
    {
     "data": {
      "text/latex": [
       "$\\displaystyle \\left|{z_{0}}\\right|$"
      ],
      "text/plain": [
       "Abs(z0)"
      ]
     },
     "execution_count": 10,
     "metadata": {},
     "output_type": "execute_result"
    }
   ],
   "source": [
    "N=5\n",
    "z = symbols(f'z:{N}',complex=True)\n",
    "Abs(z[0])"
   ]
  },
  {
   "cell_type": "code",
   "execution_count": 25,
   "id": "b418b889",
   "metadata": {},
   "outputs": [
    {
     "data": {
      "text/latex": [
       "$\\displaystyle \\left|{z_{0}}\\right| < 1$"
      ],
      "text/plain": [
       "Abs(z0) < 1"
      ]
     },
     "execution_count": 25,
     "metadata": {},
     "output_type": "execute_result"
    }
   ],
   "source": [
    "cylinders = [Abs(zz)<1 for zz in z]"
   ]
  },
  {
   "cell_type": "code",
   "execution_count": 26,
   "id": "244decaa",
   "metadata": {},
   "outputs": [
    {
     "data": {
      "text/latex": [
       "$\\displaystyle \\left\\{z_{0}\\; \\middle|\\; z_{0} \\in \\mathbb{C} \\wedge \\left|{z_{0}}\\right| < 1 \\right\\} \\cup \\left\\{z_{1}\\; \\middle|\\; z_{1} \\in \\mathbb{C} \\wedge \\left|{z_{1}}\\right| < 1 \\right\\}$"
      ],
      "text/plain": [
       "Union(ConditionSet(z0, Abs(z0) < 1, Complexes), ConditionSet(z1, Abs(z1) < 1, Complexes))"
      ]
     },
     "execution_count": 26,
     "metadata": {},
     "output_type": "execute_result"
    }
   ],
   "source": [
    "Union(solveset(cylinders[0]),solveset(cylinders[1]))"
   ]
  },
  {
   "cell_type": "code",
   "execution_count": null,
   "id": "94635ce8",
   "metadata": {},
   "outputs": [],
   "source": []
  }
 ],
 "metadata": {
  "kernelspec": {
   "display_name": "Python 3 (ipykernel)",
   "language": "python",
   "name": "python3"
  },
  "language_info": {
   "codemirror_mode": {
    "name": "ipython",
    "version": 3
   },
   "file_extension": ".py",
   "mimetype": "text/x-python",
   "name": "python",
   "nbconvert_exporter": "python",
   "pygments_lexer": "ipython3",
   "version": "3.9.7"
  }
 },
 "nbformat": 4,
 "nbformat_minor": 5
}
