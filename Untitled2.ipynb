{
 "cells": [
  {
   "cell_type": "code",
   "execution_count": 2,
   "id": "800ec10a",
   "metadata": {},
   "outputs": [],
   "source": [
    "from sympy import *"
   ]
  },
  {
   "cell_type": "code",
   "execution_count": 41,
   "id": "6105e1a0",
   "metadata": {},
   "outputs": [],
   "source": [
    "N=3\n",
    "A = symbols(f'A_w^:{N-1}',real=True)\n",
    "theta =symbols(f'theta:{N-1}')\n",
    "alpha = symbols(f\"alpha:{N-1}\",real=True)\n",
    "alpha = (*alpha,1-sum(alpha))\n",
    "P =[A[i]*exp(I*theta[i]) for i in range(N-1)]\n",
    "P += [1-sum(P)]\n",
    "PP = [A[i]*exp(-I*theta[i]) for i in range(N-1)]\n",
    "PP += [1-sum(PP)]\n",
    "abl = lambda k : -1/alpha[k] * P[k] * PP[k] + sum([P[i]*PP[i] for i in range(N)])\n",
    "x = lambda k : A[k]*(exp(I*theta[k])+exp(-I*theta[k]))/2"
   ]
  },
  {
   "cell_type": "code",
   "execution_count": 42,
   "id": "f3f23e9a",
   "metadata": {},
   "outputs": [
    {
     "data": {
      "text/latex": [
       "$\\displaystyle 2 \\left(A^{0}_{w}\\right)^{2} - \\frac{\\left(A^{0}_{w}\\right)^{2}}{\\alpha_{0}} + A^{0}_{w} A^{1}_{w} e^{i \\theta_{0}} e^{- i \\theta_{1}} + A^{0}_{w} A^{1}_{w} e^{- i \\theta_{0}} e^{i \\theta_{1}} - A^{0}_{w} e^{i \\theta_{0}} - A^{0}_{w} e^{- i \\theta_{0}} + 2 \\left(A^{1}_{w}\\right)^{2} - A^{1}_{w} e^{i \\theta_{1}} - A^{1}_{w} e^{- i \\theta_{1}} + 1$"
      ],
      "text/plain": [
       "2*A_w^0**2 - A_w^0**2/alpha0 + A_w^0*A_w^1*exp(I*theta0)*exp(-I*theta1) + A_w^0*A_w^1*exp(-I*theta0)*exp(I*theta1) - A_w^0*exp(I*theta0) - A_w^0*exp(-I*theta0) + 2*A_w^1**2 - A_w^1*exp(I*theta1) - A_w^1*exp(-I*theta1) + 1"
      ]
     },
     "execution_count": 42,
     "metadata": {},
     "output_type": "execute_result"
    }
   ],
   "source": [
    "expand(abl(0))"
   ]
  },
  {
   "cell_type": "code",
   "execution_count": 43,
   "id": "d539453c",
   "metadata": {},
   "outputs": [
    {
     "data": {
      "text/latex": [
       "$\\displaystyle - 4 A^{0}_{w} \\lambda + \\frac{2 A^{0}_{w} \\lambda}{\\alpha_{0}} - A^{1}_{w} \\lambda e^{i \\theta_{0}} e^{- i \\theta_{1}} - A^{1}_{w} \\lambda e^{- i \\theta_{0}} e^{i \\theta_{1}} + \\lambda e^{i \\theta_{0}} + \\lambda e^{- i \\theta_{0}} + \\frac{e^{i \\theta_{0}}}{2} + \\frac{e^{- i \\theta_{0}}}{2}$"
      ],
      "text/plain": [
       "-4*A_w^0*lambda + 2*A_w^0*lambda/alpha0 - A_w^1*lambda*exp(I*theta0)*exp(-I*theta1) - A_w^1*lambda*exp(-I*theta0)*exp(I*theta1) + lambda*exp(I*theta0) + lambda*exp(-I*theta0) + exp(I*theta0)/2 + exp(-I*theta0)/2"
      ]
     },
     "metadata": {},
     "output_type": "display_data"
    },
    {
     "data": {
      "text/latex": [
       "$\\displaystyle - A^{0}_{w} \\lambda e^{i \\theta_{0}} e^{- i \\theta_{1}} - A^{0}_{w} \\lambda e^{- i \\theta_{0}} e^{i \\theta_{1}} - 4 A^{1}_{w} \\lambda + \\lambda e^{i \\theta_{1}} + \\lambda e^{- i \\theta_{1}}$"
      ],
      "text/plain": [
       "-A_w^0*lambda*exp(I*theta0)*exp(-I*theta1) - A_w^0*lambda*exp(-I*theta0)*exp(I*theta1) - 4*A_w^1*lambda + lambda*exp(I*theta1) + lambda*exp(-I*theta1)"
      ]
     },
     "metadata": {},
     "output_type": "display_data"
    },
    {
     "data": {
      "text/latex": [
       "$\\displaystyle - i A^{0}_{w} A^{1}_{w} \\lambda e^{i \\theta_{0}} e^{- i \\theta_{1}} + i A^{0}_{w} A^{1}_{w} \\lambda e^{- i \\theta_{0}} e^{i \\theta_{1}} + i A^{0}_{w} \\lambda e^{i \\theta_{0}} - i A^{0}_{w} \\lambda e^{- i \\theta_{0}} + \\frac{i A^{0}_{w} e^{i \\theta_{0}}}{2} - \\frac{i A^{0}_{w} e^{- i \\theta_{0}}}{2}$"
      ],
      "text/plain": [
       "-I*A_w^0*A_w^1*lambda*exp(I*theta0)*exp(-I*theta1) + I*A_w^0*A_w^1*lambda*exp(-I*theta0)*exp(I*theta1) + I*A_w^0*lambda*exp(I*theta0) - I*A_w^0*lambda*exp(-I*theta0) + I*A_w^0*exp(I*theta0)/2 - I*A_w^0*exp(-I*theta0)/2"
      ]
     },
     "metadata": {},
     "output_type": "display_data"
    },
    {
     "data": {
      "text/latex": [
       "$\\displaystyle i A^{0}_{w} A^{1}_{w} \\lambda e^{i \\theta_{0}} e^{- i \\theta_{1}} - i A^{0}_{w} A^{1}_{w} \\lambda e^{- i \\theta_{0}} e^{i \\theta_{1}} + i A^{1}_{w} \\lambda e^{i \\theta_{1}} - i A^{1}_{w} \\lambda e^{- i \\theta_{1}}$"
      ],
      "text/plain": [
       "I*A_w^0*A_w^1*lambda*exp(I*theta0)*exp(-I*theta1) - I*A_w^0*A_w^1*lambda*exp(-I*theta0)*exp(I*theta1) + I*A_w^1*lambda*exp(I*theta1) - I*A_w^1*lambda*exp(-I*theta1)"
      ]
     },
     "metadata": {},
     "output_type": "display_data"
    },
    {
     "data": {
      "text/latex": [
       "$\\displaystyle - 2 \\left(A^{0}_{w}\\right)^{2} + \\frac{\\left(A^{0}_{w}\\right)^{2}}{\\alpha_{0}} - A^{0}_{w} A^{1}_{w} e^{i \\theta_{0}} e^{- i \\theta_{1}} - A^{0}_{w} A^{1}_{w} e^{- i \\theta_{0}} e^{i \\theta_{1}} + A^{0}_{w} e^{i \\theta_{0}} + A^{0}_{w} e^{- i \\theta_{0}} - 2 \\left(A^{1}_{w}\\right)^{2} + A^{1}_{w} e^{i \\theta_{1}} + A^{1}_{w} e^{- i \\theta_{1}} - 1$"
      ],
      "text/plain": [
       "-2*A_w^0**2 + A_w^0**2/alpha0 - A_w^0*A_w^1*exp(I*theta0)*exp(-I*theta1) - A_w^0*A_w^1*exp(-I*theta0)*exp(I*theta1) + A_w^0*exp(I*theta0) + A_w^0*exp(-I*theta0) - 2*A_w^1**2 + A_w^1*exp(I*theta1) + A_w^1*exp(-I*theta1) - 1"
      ]
     },
     "metadata": {},
     "output_type": "display_data"
    }
   ],
   "source": [
    "lmbda = symbols('lambda')\n",
    "Lagrangian = x(0) - lmbda * abl(0)\n",
    "gradient= [diff(Lagrangian,var) for var in A+theta+(lmbda,)]\n",
    "for el in gradient:\n",
    "    display(expand(el))"
   ]
  },
  {
   "cell_type": "code",
   "execution_count": null,
   "id": "25a59916",
   "metadata": {},
   "outputs": [],
   "source": [
    "result = solve(gradient,A+theta+(lmbda,))"
   ]
  }
 ],
 "metadata": {
  "kernelspec": {
   "display_name": "Python 3 (ipykernel)",
   "language": "python",
   "name": "python3"
  },
  "language_info": {
   "codemirror_mode": {
    "name": "ipython",
    "version": 3
   },
   "file_extension": ".py",
   "mimetype": "text/x-python",
   "name": "python",
   "nbconvert_exporter": "python",
   "pygments_lexer": "ipython3",
   "version": "3.9.7"
  }
 },
 "nbformat": 4,
 "nbformat_minor": 5
}
